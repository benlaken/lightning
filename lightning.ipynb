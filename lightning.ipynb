{
 "cells": [
  {
   "cell_type": "markdown",
   "metadata": {},
   "source": [
    "# Lightning data analysis (from WWLN or Blitzortung)\n",
    "This iPython notebook extracts lighning data from raw WWLN data files or Blitzortung network.\n",
    "\n",
    "Code by: Jasa Calogovic (Faculty of Geodesy, University of Zagreb) and Benjamin Laken (UCL)\n",
    "\n",
    "Email: jcalogovic@geof.hr"
   ]
  },
  {
   "cell_type": "code",
   "execution_count": 1,
   "metadata": {
    "collapsed": false
   },
   "outputs": [
    {
     "data": {
      "text/html": [
       "\n",
       "    <div class=\"bk-root\">\n",
       "        <a href=\"http://bokeh.pydata.org\" target=\"_blank\" class=\"bk-logo bk-logo-small bk-logo-notebook\"></a>\n",
       "        <span id=\"a6452d91-330f-4e45-bd63-8d5725751edc\">Loading BokehJS ...</span>\n",
       "    </div>"
      ]
     },
     "metadata": {},
     "output_type": "display_data"
    },
    {
     "data": {
      "application/javascript": [
       "\n",
       "(function(global) {\n",
       "  function now() {\n",
       "    return new Date();\n",
       "  }\n",
       "\n",
       "  var force = \"1\";\n",
       "\n",
       "  if (typeof (window._bokeh_onload_callbacks) === \"undefined\" || force !== \"\") {\n",
       "    window._bokeh_onload_callbacks = [];\n",
       "    window._bokeh_is_loading = undefined;\n",
       "  }\n",
       "\n",
       "\n",
       "  \n",
       "  if (typeof (window._bokeh_timeout) === \"undefined\" || force !== \"\") {\n",
       "    window._bokeh_timeout = Date.now() + 5000;\n",
       "    window._bokeh_failed_load = false;\n",
       "  }\n",
       "\n",
       "  var NB_LOAD_WARNING = {'data': {'text/html':\n",
       "     \"<div style='background-color: #fdd'>\\n\"+\n",
       "     \"<p>\\n\"+\n",
       "     \"BokehJS does not appear to have successfully loaded. If loading BokehJS from CDN, this \\n\"+\n",
       "     \"may be due to a slow or bad network connection. Possible fixes:\\n\"+\n",
       "     \"</p>\\n\"+\n",
       "     \"<ul>\\n\"+\n",
       "     \"<li>re-rerun `output_notebook()` to attempt to load from CDN again, or</li>\\n\"+\n",
       "     \"<li>use INLINE resources instead, as so:</li>\\n\"+\n",
       "     \"</ul>\\n\"+\n",
       "     \"<code>\\n\"+\n",
       "     \"from bokeh.resources import INLINE\\n\"+\n",
       "     \"output_notebook(resources=INLINE)\\n\"+\n",
       "     \"</code>\\n\"+\n",
       "     \"</div>\"}};\n",
       "\n",
       "  function display_loaded() {\n",
       "    if (window.Bokeh !== undefined) {\n",
       "      Bokeh.$(\"#a6452d91-330f-4e45-bd63-8d5725751edc\").text(\"BokehJS successfully loaded.\");\n",
       "    } else if (Date.now() < window._bokeh_timeout) {\n",
       "      setTimeout(display_loaded, 100)\n",
       "    }\n",
       "  }\n",
       "\n",
       "  function run_callbacks() {\n",
       "    window._bokeh_onload_callbacks.forEach(function(callback) { callback() });\n",
       "    delete window._bokeh_onload_callbacks\n",
       "    console.info(\"Bokeh: all callbacks have finished\");\n",
       "  }\n",
       "\n",
       "  function load_libs(js_urls, callback) {\n",
       "    window._bokeh_onload_callbacks.push(callback);\n",
       "    if (window._bokeh_is_loading > 0) {\n",
       "      console.log(\"Bokeh: BokehJS is being loaded, scheduling callback at\", now());\n",
       "      return null;\n",
       "    }\n",
       "    if (js_urls == null || js_urls.length === 0) {\n",
       "      run_callbacks();\n",
       "      return null;\n",
       "    }\n",
       "    console.log(\"Bokeh: BokehJS not loaded, scheduling load and callback at\", now());\n",
       "    window._bokeh_is_loading = js_urls.length;\n",
       "    for (var i = 0; i < js_urls.length; i++) {\n",
       "      var url = js_urls[i];\n",
       "      var s = document.createElement('script');\n",
       "      s.src = url;\n",
       "      s.async = false;\n",
       "      s.onreadystatechange = s.onload = function() {\n",
       "        window._bokeh_is_loading--;\n",
       "        if (window._bokeh_is_loading === 0) {\n",
       "          console.log(\"Bokeh: all BokehJS libraries loaded\");\n",
       "          run_callbacks()\n",
       "        }\n",
       "      };\n",
       "      s.onerror = function() {\n",
       "        console.warn(\"failed to load library \" + url);\n",
       "      };\n",
       "      console.log(\"Bokeh: injecting script tag for BokehJS library: \", url);\n",
       "      document.getElementsByTagName(\"head\")[0].appendChild(s);\n",
       "    }\n",
       "  };var element = document.getElementById(\"a6452d91-330f-4e45-bd63-8d5725751edc\");\n",
       "  if (element == null) {\n",
       "    console.log(\"Bokeh: ERROR: autoload.js configured with elementid 'a6452d91-330f-4e45-bd63-8d5725751edc' but no matching script tag was found. \")\n",
       "    return false;\n",
       "  }\n",
       "\n",
       "  var js_urls = ['https://cdn.pydata.org/bokeh/release/bokeh-0.12.2.min.js', 'https://cdn.pydata.org/bokeh/release/bokeh-widgets-0.12.2.min.js', 'https://cdn.pydata.org/bokeh/release/bokeh-compiler-0.12.2.min.js'];\n",
       "\n",
       "  var inline_js = [\n",
       "    function(Bokeh) {\n",
       "      Bokeh.set_log_level(\"info\");\n",
       "    },\n",
       "    \n",
       "    function(Bokeh) {\n",
       "      \n",
       "      Bokeh.$(\"#a6452d91-330f-4e45-bd63-8d5725751edc\").text(\"BokehJS is loading...\");\n",
       "    },\n",
       "    function(Bokeh) {\n",
       "      console.log(\"Bokeh: injecting CSS: https://cdn.pydata.org/bokeh/release/bokeh-0.12.2.min.css\");\n",
       "      Bokeh.embed.inject_css(\"https://cdn.pydata.org/bokeh/release/bokeh-0.12.2.min.css\");\n",
       "      console.log(\"Bokeh: injecting CSS: https://cdn.pydata.org/bokeh/release/bokeh-widgets-0.12.2.min.css\");\n",
       "      Bokeh.embed.inject_css(\"https://cdn.pydata.org/bokeh/release/bokeh-widgets-0.12.2.min.css\");\n",
       "    }\n",
       "  ];\n",
       "\n",
       "  function run_inline_js() {\n",
       "    \n",
       "    if ((window.Bokeh !== undefined) || (force === \"1\")) {\n",
       "      for (var i = 0; i < inline_js.length; i++) {\n",
       "        inline_js[i](window.Bokeh);\n",
       "      }if (force === \"1\") {\n",
       "        display_loaded();\n",
       "      }} else if (Date.now() < window._bokeh_timeout) {\n",
       "      setTimeout(run_inline_js, 100);\n",
       "    } else if (!window._bokeh_failed_load) {\n",
       "      console.log(\"Bokeh: BokehJS failed to load within specified timeout.\");\n",
       "      window._bokeh_failed_load = true;\n",
       "    } else if (!force) {\n",
       "      var cell = $(\"#a6452d91-330f-4e45-bd63-8d5725751edc\").parents('.cell').data().cell;\n",
       "      cell.output_area.append_execute_result(NB_LOAD_WARNING)\n",
       "    }\n",
       "\n",
       "  }\n",
       "\n",
       "  if (window._bokeh_is_loading === 0) {\n",
       "    console.log(\"Bokeh: BokehJS loaded, going straight to plotting\");\n",
       "    run_inline_js();\n",
       "  } else {\n",
       "    load_libs(js_urls, function() {\n",
       "      console.log(\"Bokeh: BokehJS plotting callback run at\", now());\n",
       "      run_inline_js();\n",
       "    });\n",
       "  }\n",
       "}(this));"
      ]
     },
     "metadata": {},
     "output_type": "display_data"
    }
   ],
   "source": [
    "# Load required packages\n",
    "import numpy as np\n",
    "import datetime as dt\n",
    "from datetime import timedelta\n",
    "import pandas as pd\n",
    "from tqdm import tqdm\n",
    "import os\n",
    "import geopandas as gpd\n",
    "from shapely.geometry import Point\n",
    "from bokeh.plotting import Figure, show, output_notebook, vplot\n",
    "from bokeh.charts import Bar\n",
    "from bokeh.io import gridplot\n",
    "from bokeh.models import HoverTool, Span, Range1d, LinearAxis\n",
    "from bokeh.models.sources import ColumnDataSource\n",
    "\n",
    "from stormstats.storm import read_WWLN, get_map, get_data, count_lightning, gen_listfiles, bzorg_to_geopandas\n",
    "\n",
    "output_notebook()"
   ]
  },
  {
   "cell_type": "markdown",
   "metadata": {},
   "source": [
    "## Define parameters"
   ]
  },
  {
   "cell_type": "code",
   "execution_count": null,
   "metadata": {
    "collapsed": false
   },
   "outputs": [],
   "source": [
    "data_path='data/WWLN/Jan2016/'\n",
    "#data_path = \"WWLN\"\n",
    "\n",
    "# time step (in minutes) used to count number fo lightning. Max time step is 1440 (1 day)\n",
    "# and it should have multiple value of 1440 minutes.\n",
    "time_step=60\n",
    "\n",
    "# if select_area=False: all lightning are counted\n",
    "# if select_area=True: only lightning in selected area are counted (lat and lon limits are needed)\n",
    "select_area=True\n",
    "# define area to count lightning strikes (lat, lon) if select_area=True\n",
    "north_lat_limit=70\n",
    "south_lat_limit=30\n",
    "west_lon_limit=-15\n",
    "east_lon_limit=45\n",
    "# exclude all lightning data with error larger than max_error \n",
    "max_error=30\n",
    "# exclude all lightning strikes detected with less or equal than min_stations\n",
    "min_stations=5\n",
    "# note: in raw data lightning strikes detected with less than 5 stations and error larger than 30 \n",
    "# are already excluded"
   ]
  },
  {
   "cell_type": "markdown",
   "metadata": {},
   "source": [
    "## Load WWLN data and analyze it "
   ]
  },
  {
   "cell_type": "code",
   "execution_count": null,
   "metadata": {
    "collapsed": false
   },
   "outputs": [],
   "source": [
    "# generate list of files in data directory, if start_date and end_date are defined data only in this \n",
    "#period will be used\n",
    "listfiles=gen_listfiles(data_path=data_path, ext='.loc', start_date='01-01-2016', end_date='01-02-2016')\n",
    "    \n",
    "# make loop for all files\n",
    "i=0\n",
    "for file in tqdm(listfiles):\n",
    "    # read lightning data\n",
    "    LN_data = read_WWLN(file=data_path+file)\n",
    "    # --- make quality check and select lightning in given area\n",
    "    # exclude lightning data that have larger error than max_error\n",
    "    LN_data=LN_data.loc[LN_data['err']<=max_error]\n",
    "    # exclude lightning data that have less than min_stations\n",
    "    LN_data=LN_data.loc[LN_data['#sta']>=min_stations]\n",
    "    # select only lightning strikes in given area\n",
    "    if(select_area):\n",
    "        LN_data=LN_data.loc[(LN_data['lat']<=north_lat_limit) & (LN_data['lat']>=south_lat_limit) & \n",
    "                            (LN_data['lon']>=west_lon_limit) & (LN_data['lon']<=east_lon_limit)]\n",
    "    # --- Count lightning strikes according to time_step defined\n",
    "    LN_tmp=count_lightning(LN_data, time_step)\n",
    "    # add data to existing df\n",
    "    if(i>=1):\n",
    "        LN_count=LN_count.append(LN_tmp)\n",
    "    else:\n",
    "        LN_count=LN_tmp\n",
    "    i=i+1"
   ]
  },
  {
   "cell_type": "markdown",
   "metadata": {},
   "source": [
    "## Save data"
   ]
  },
  {
   "cell_type": "code",
   "execution_count": null,
   "metadata": {
    "collapsed": false
   },
   "outputs": [],
   "source": [
    "#LN_count\n",
    "LN_count.to_csv('WWLN_data_europe.csv')"
   ]
  },
  {
   "cell_type": "markdown",
   "metadata": {},
   "source": [
    "## Load data (Blitzortung)"
   ]
  },
  {
   "cell_type": "code",
   "execution_count": null,
   "metadata": {
    "collapsed": false
   },
   "outputs": [],
   "source": [
    "# get data from Blitzortung server\n",
    "get_data(start=\"2015-02-01T06:30\", end=\"2015-02-01T10:05\",\n",
    "                dl_link=\"http://data.blitzortung.org/Data_1/Protected/Strokes/\")\n",
    "\n",
    "# "
   ]
  },
  {
   "cell_type": "markdown",
   "metadata": {},
   "source": [
    "## Plot lightning results"
   ]
  },
  {
   "cell_type": "code",
   "execution_count": null,
   "metadata": {
    "collapsed": false
   },
   "outputs": [],
   "source": [
    "# define Bokeh tools\n",
    "TOOLS = \"pan, wheel_zoom, box_zoom, hover, reset, save\"\n",
    "\n",
    "# calculate error bars\n",
    "#err_y1=LN_count['#sta_mean']-(LN_count['#sta_std']/(np.sqrt(LN_count['count'])))\n",
    "#err_y2=LN_count['#sta_mean']+(LN_count['#sta_std']/(np.sqrt(LN_count['count'])))\n",
    "\n",
    "fig_LN_count_a = Figure(plot_width=800, plot_height=400, title=\"Lightning count\", tools=TOOLS,\n",
    "                   x_axis_label=\"Date\", y_axis_label=\"Nr. of lightning strikes\", x_axis_type = \"datetime\", \n",
    "                 title_text_font_size='22pt')\n",
    "fig_LN_count_a.line(LN_count['count'].index, LN_count['count'].values, color='red')\n",
    "\n",
    "fig_LN_count_b = Figure(plot_width=800, plot_height=300, tools=TOOLS,\n",
    "                 y_axis_label=\"Error\", x_axis_type = \"datetime\", x_range=fig_LN_count_a.x_range)\n",
    "fig_LN_count_b.line(LN_count['err_mean'].index, LN_count['err_mean'].values, color='blue')\n",
    "\n",
    "fig_LN_count_c = Figure(plot_width=800, plot_height=300, tools=TOOLS,\n",
    "                   x_axis_label=\"Date\", y_axis_label=\"Mean nr. of stations\", x_axis_type = \"datetime\",\n",
    "                        x_range=fig_LN_count_a.x_range)\n",
    "fig_LN_count_c.line(LN_count['#sta_mean'].index, LN_count['#sta_mean'].values, color='black')\n",
    "\n",
    "fig_LN_count = gridplot([[fig_LN_count_a],[fig_LN_count_b],[fig_LN_count_c]])\n",
    "show(fig_LN_count)"
   ]
  },
  {
   "cell_type": "markdown",
   "metadata": {},
   "source": [
    "## Map data ## "
   ]
  },
  {
   "cell_type": "code",
   "execution_count": null,
   "metadata": {
    "collapsed": false
   },
   "outputs": [],
   "source": [
    "# mapping function doesnt seem to handel the large sizes well, so I am limiting the size for now\n",
    "mx = get_map(strike_data = LN_data)\n",
    "mx"
   ]
  },
  {
   "cell_type": "code",
   "execution_count": null,
   "metadata": {
    "collapsed": false
   },
   "outputs": [],
   "source": []
  }
 ],
 "metadata": {
  "anaconda-cloud": {},
  "kernelspec": {
   "display_name": "Python [default]",
   "language": "python",
   "name": "python3"
  },
  "language_info": {
   "codemirror_mode": {
    "name": "ipython",
    "version": 3
   },
   "file_extension": ".py",
   "mimetype": "text/x-python",
   "name": "python",
   "nbconvert_exporter": "python",
   "pygments_lexer": "ipython3",
   "version": "3.5.2"
  }
 },
 "nbformat": 4,
 "nbformat_minor": 0
}
