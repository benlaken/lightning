{
 "cells": [
  {
   "cell_type": "markdown",
   "metadata": {},
   "source": [
    "# Lightning data analysis (from WWLN or Blitzortung)\n",
    "This iPython notebook extracts lighning data from raw WWLN data files or Blitzortung network.\n",
    "\n",
    "Code by: Jasa Calogovic (Faculty of Geodesy, University of Zagreb) and Benjamin Laken (UCL)\n",
    "\n",
    "Email: jcalogovic@geof.hr"
   ]
  },
  {
   "cell_type": "code",
   "execution_count": 4,
   "metadata": {
    "collapsed": false
   },
   "outputs": [
    {
     "data": {
      "text/html": [
       "\n",
       "\n",
       "    <script type=\"text/javascript\">\n",
       "      \n",
       "      (function(global) {\n",
       "        function now() {\n",
       "          return new Date();\n",
       "        }\n",
       "      \n",
       "        if (typeof (window._bokeh_onload_callbacks) === \"undefined\") {\n",
       "          window._bokeh_onload_callbacks = [];\n",
       "        }\n",
       "      \n",
       "        function run_callbacks() {\n",
       "          window._bokeh_onload_callbacks.forEach(function(callback) { callback() });\n",
       "          delete window._bokeh_onload_callbacks\n",
       "          console.info(\"Bokeh: all callbacks have finished\");\n",
       "        }\n",
       "      \n",
       "        function load_libs(js_urls, callback) {\n",
       "          window._bokeh_onload_callbacks.push(callback);\n",
       "          if (window._bokeh_is_loading > 0) {\n",
       "            console.log(\"Bokeh: BokehJS is being loaded, scheduling callback at\", now());\n",
       "            return null;\n",
       "          }\n",
       "          if (js_urls == null || js_urls.length === 0) {\n",
       "            run_callbacks();\n",
       "            return null;\n",
       "          }\n",
       "          console.log(\"Bokeh: BokehJS not loaded, scheduling load and callback at\", now());\n",
       "          window._bokeh_is_loading = js_urls.length;\n",
       "          for (var i = 0; i < js_urls.length; i++) {\n",
       "            var url = js_urls[i];\n",
       "            var s = document.createElement('script');\n",
       "            s.src = url;\n",
       "            s.async = false;\n",
       "            s.onreadystatechange = s.onload = function() {\n",
       "              window._bokeh_is_loading--;\n",
       "              if (window._bokeh_is_loading === 0) {\n",
       "                console.log(\"Bokeh: all BokehJS libraries loaded\");\n",
       "                run_callbacks()\n",
       "              }\n",
       "            };\n",
       "            s.onerror = function() {\n",
       "              console.warn(\"failed to load library \" + url);\n",
       "            };\n",
       "            console.log(\"Bokeh: injecting script tag for BokehJS library: \", url);\n",
       "            document.getElementsByTagName(\"head\")[0].appendChild(s);\n",
       "          }\n",
       "        };var js_urls = ['https://cdn.pydata.org/bokeh/release/bokeh-0.11.0.min.js', 'https://cdn.pydata.org/bokeh/release/bokeh-widgets-0.11.0.min.js', 'https://cdn.pydata.org/bokeh/release/bokeh-compiler-0.11.0.min.js'];\n",
       "      \n",
       "        var inline_js = [\n",
       "          function(Bokeh) {\n",
       "            Bokeh.set_log_level(\"info\");\n",
       "          },\n",
       "          function(Bokeh) {\n",
       "            console.log(\"Bokeh: injecting CSS: https://cdn.pydata.org/bokeh/release/bokeh-0.11.0.min.css\");\n",
       "            Bokeh.embed.inject_css(\"https://cdn.pydata.org/bokeh/release/bokeh-0.11.0.min.css\");\n",
       "            console.log(\"Bokeh: injecting CSS: https://cdn.pydata.org/bokeh/release/bokeh-widgets-0.11.0.min.css\");\n",
       "            Bokeh.embed.inject_css(\"https://cdn.pydata.org/bokeh/release/bokeh-widgets-0.11.0.min.css\");\n",
       "          }\n",
       "        ];\n",
       "      \n",
       "        function run_inline_js() {\n",
       "          for (var i = 0; i < inline_js.length; i++) {\n",
       "            inline_js[i](window.Bokeh);\n",
       "          }\n",
       "        }\n",
       "      \n",
       "        if (window._bokeh_is_loading === 0) {\n",
       "          console.log(\"Bokeh: BokehJS loaded, going straight to plotting\");\n",
       "          run_inline_js();\n",
       "        } else {\n",
       "          load_libs(js_urls, function() {\n",
       "            console.log(\"Bokeh: BokehJS plotting callback run at\", now());\n",
       "            run_inline_js();\n",
       "          });\n",
       "        }\n",
       "      }(this));\n",
       "    </script>\n",
       "    <div>\n",
       "        <a href=\"http://bokeh.pydata.org\" target=\"_blank\" class=\"bk-logo bk-logo-small bk-logo-notebook\"></a>\n",
       "        <span>BokehJS successfully loaded.</span>\n",
       "    </div>"
      ]
     },
     "metadata": {},
     "output_type": "display_data"
    }
   ],
   "source": [
    "# Load required packages\n",
    "import numpy as np\n",
    "import datetime as dt\n",
    "from datetime import timedelta\n",
    "import pandas as pd\n",
    "from tqdm import tqdm\n",
    "import os\n",
    "from bokeh.plotting import Figure, show, output_notebook, vplot\n",
    "from bokeh.charts import Bar\n",
    "from bokeh.io import gridplot\n",
    "from bokeh.models import HoverTool, Span, Range1d, LinearAxis\n",
    "from bokeh.models.sources import ColumnDataSource\n",
    "\n",
    "from stormstats.storm import read_WWLN, get_map, get_data, count_lightning, gen_listfiles\n",
    "\n",
    "output_notebook()"
   ]
  },
  {
   "cell_type": "markdown",
   "metadata": {},
   "source": [
    "## Define parameters"
   ]
  },
  {
   "cell_type": "code",
   "execution_count": 5,
   "metadata": {
    "collapsed": false
   },
   "outputs": [],
   "source": [
    "data_path='../data/WWLN/Jan2016/'\n",
    "#data_path = \"WWLN\"\n",
    "\n",
    "# time step (in minutes) used to count number fo lightning. Max time step is 1440 (1 day)\n",
    "# and it should have multiple value of 1440 minutes.\n",
    "time_step=60\n",
    "\n",
    "# if select_area=False: all lightning are counted\n",
    "# if select_area=True: only lightning in selected area are counted (lat and lon limits are needed)\n",
    "select_area=True\n",
    "# define area to count lightning strikes (lat, lon) if select_area=True\n",
    "north_lat_limit=70\n",
    "south_lat_limit=30\n",
    "west_lon_limit=-15\n",
    "east_lon_limit=45\n",
    "# exclude all lightning data with error larger than max_error \n",
    "max_error=30\n",
    "# exclude all lightning strikes detected with less or equal than min_stations\n",
    "min_stations=5\n",
    "# note: in raw data lightning strikes detected with less than 5 stations and error larger than 30 \n",
    "# are already excluded"
   ]
  },
  {
   "cell_type": "markdown",
   "metadata": {},
   "source": [
    "## Load WWLN data and analyze it "
   ]
  },
  {
   "cell_type": "code",
   "execution_count": 6,
   "metadata": {
    "collapsed": false
   },
   "outputs": [
    {
     "name": "stderr",
     "output_type": "stream",
     "text": []
    }
   ],
   "source": [
    "# generate list of files in data directory, if start_date and end_date are defined data only in this \n",
    "#period will be used\n",
    "listfiles=gen_listfiles(data_path, ext='.loc', start_date='01-01-2016', end_date='01-02-2016')\n",
    "    \n",
    "# make loop for all files\n",
    "i=0\n",
    "for file in tqdm(listfiles):\n",
    "    # read lightning data\n",
    "    LN_data = read_WWLN(file=data_path+file)\n",
    "    # --- make quality check and select lightning in given area\n",
    "    # exclude lightning data that have larger error than max_error\n",
    "    LN_data=LN_data.loc[LN_data['err']<=max_error]\n",
    "    # exclude lightning data that have less than min_stations\n",
    "    LN_data=LN_data.loc[LN_data['#sta']>=min_stations]\n",
    "    # select only lightning strikes in given area\n",
    "    if(select_area):\n",
    "        LN_data=LN_data.loc[(LN_data['lat']<=north_lat_limit) & (LN_data['lat']>=south_lat_limit) & \n",
    "                            (LN_data['lon']>=west_lon_limit) & (LN_data['lon']<=east_lon_limit)]\n",
    "    # --- Count lightning strikes according to time_step defined\n",
    "    LN_tmp=count_lightning(LN_data, time_step)\n",
    "    # add data to existing df\n",
    "    if(i>=1):\n",
    "        LN_count=LN_count.append(LN_tmp)\n",
    "    else:\n",
    "        LN_count=LN_tmp\n",
    "    i=i+1"
   ]
  },
  {
   "cell_type": "markdown",
   "metadata": {},
   "source": [
    "## Save data"
   ]
  },
  {
   "cell_type": "code",
   "execution_count": null,
   "metadata": {
    "collapsed": false
   },
   "outputs": [],
   "source": [
    "#LN_count\n",
    "LN_count.to_csv('WWLN_data_europe.csv')"
   ]
  },
  {
   "cell_type": "markdown",
   "metadata": {},
   "source": [
    "## Load data (Blitzortung)"
   ]
  },
  {
   "cell_type": "code",
   "execution_count": null,
   "metadata": {
    "collapsed": false
   },
   "outputs": [],
   "source": [
    "# get data from Blitzortung server\n",
    "get_data(start=\"2015-02-01T06:30\", end=\"2015-02-01T10:05\",\n",
    "                dl_link=\"http://data.blitzortung.org/Data_1/Protected/Strokes/\")\n",
    "\n",
    "# "
   ]
  },
  {
   "cell_type": "markdown",
   "metadata": {},
   "source": [
    "## Plot lightning results"
   ]
  },
  {
   "cell_type": "code",
   "execution_count": 7,
   "metadata": {
    "collapsed": false
   },
   "outputs": [
    {
     "data": {
      "text/html": [
       "\n",
       "\n",
       "    <div class=\"plotdiv\" id=\"0cc666c3-36f7-4274-b312-46fd37282749\"></div>\n",
       "<script type=\"text/javascript\">\n",
       "  \n",
       "  (function(global) {\n",
       "    function now() {\n",
       "      return new Date();\n",
       "    }\n",
       "  \n",
       "    if (typeof (window._bokeh_onload_callbacks) === \"undefined\") {\n",
       "      window._bokeh_onload_callbacks = [];\n",
       "    }\n",
       "  \n",
       "    function run_callbacks() {\n",
       "      window._bokeh_onload_callbacks.forEach(function(callback) { callback() });\n",
       "      delete window._bokeh_onload_callbacks\n",
       "      console.info(\"Bokeh: all callbacks have finished\");\n",
       "    }\n",
       "  \n",
       "    function load_libs(js_urls, callback) {\n",
       "      window._bokeh_onload_callbacks.push(callback);\n",
       "      if (window._bokeh_is_loading > 0) {\n",
       "        console.log(\"Bokeh: BokehJS is being loaded, scheduling callback at\", now());\n",
       "        return null;\n",
       "      }\n",
       "      if (js_urls == null || js_urls.length === 0) {\n",
       "        run_callbacks();\n",
       "        return null;\n",
       "      }\n",
       "      console.log(\"Bokeh: BokehJS not loaded, scheduling load and callback at\", now());\n",
       "      window._bokeh_is_loading = js_urls.length;\n",
       "      for (var i = 0; i < js_urls.length; i++) {\n",
       "        var url = js_urls[i];\n",
       "        var s = document.createElement('script');\n",
       "        s.src = url;\n",
       "        s.async = false;\n",
       "        s.onreadystatechange = s.onload = function() {\n",
       "          window._bokeh_is_loading--;\n",
       "          if (window._bokeh_is_loading === 0) {\n",
       "            console.log(\"Bokeh: all BokehJS libraries loaded\");\n",
       "            run_callbacks()\n",
       "          }\n",
       "        };\n",
       "        s.onerror = function() {\n",
       "          console.warn(\"failed to load library \" + url);\n",
       "        };\n",
       "        console.log(\"Bokeh: injecting script tag for BokehJS library: \", url);\n",
       "        document.getElementsByTagName(\"head\")[0].appendChild(s);\n",
       "      }\n",
       "    };var element = document.getElementById(\"0cc666c3-36f7-4274-b312-46fd37282749\");\n",
       "    if (element == null) {\n",
       "      console.log(\"Bokeh: ERROR: autoload.js configured with elementid '0cc666c3-36f7-4274-b312-46fd37282749' but no matching script tag was found. \")\n",
       "      return false;\n",
       "    }var js_urls = [];\n",
       "  \n",
       "    var inline_js = [\n",
       "      function(Bokeh) {\n",
       "        Bokeh.$(function() {\n",
       "            var docs_json = {\"54cc5e65-75f4-4f9a-9f71-fe7d5d8a3fc9\": {\"title\": \"Bokeh Application\", \"version\": \"0.11.0\", \"roots\": {\"references\": [{\"id\": \"38ac2b32-ec9c-47f2-96e5-81171b6cb39a\", \"type\": \"ColumnDataSource\", \"attributes\": {\"callback\": null, \"column_names\": [\"y\", \"x\"], \"data\": {\"y\": [7.2444444444444445, 7.116883116883117, 7.076388888888889, 7.162393162393163, 7.254545454545455, 7.102564102564102, 6.657894736842105, 6.784090909090909, 6.760416666666667, 6.806306306306307, 6.475409836065574, 6.8277777777777775, 6.651416122004357, 6.919917864476386, 6.9884615384615385, 7.034545454545454, 7.16358024691358, 6.985185185185185, 7.470588235294118, 6.4, 9.0, 9.0, 11.0, 9.666666666666666, 12.0, \"NaN\", \"NaN\", \"NaN\", \"NaN\", 7.0, 6.5, 6.647058823529412, 7.6, \"NaN\", \"NaN\", \"NaN\", 6.857142857142857, 6.375, \"NaN\", 5.5, 9.666666666666666, \"NaN\", 6.337349397590361, 6.578512396694215, 6.312820512820513, 6.383033419023136, 6.5018234865062, 6.519916142557652], \"x\": [1451608200000.0, 1451611800000.0, 1451615400000.0, 1451619000000.0, 1451622600000.0, 1451626200000.0, 1451629800000.0, 1451633400000.0, 1451637000000.0, 1451640600000.0, 1451644200000.0, 1451647800000.0, 1451651400000.0, 1451655000000.0, 1451658600000.0, 1451662200000.0, 1451665800000.0, 1451669400000.0, 1451673000000.0, 1451676600000.0, 1451680200000.0, 1451683800000.0, 1451687400000.0, 1451691000000.0, 1451694600000.0, 1451698200000.0, 1451701800000.0, 1451705400000.0, 1451709000000.0, 1451712600000.0, 1451716200000.0, 1451719800000.0, 1451723400000.0, 1451727000000.0, 1451730600000.0, 1451734200000.0, 1451737800000.0, 1451741400000.0, 1451745000000.0, 1451748600000.0, 1451752200000.0, 1451755800000.0, 1451759400000.0, 1451763000000.0, 1451766600000.0, 1451770200000.0, 1451773800000.0, 1451777400000.0]}}}, {\"id\": \"03d46d81-f5b8-4bf2-9237-e1a36670a62a\", \"type\": \"WheelZoomTool\", \"attributes\": {\"plot\": {\"id\": \"539cc651-9dee-493e-9bdf-18650276ba50\", \"type\": \"Plot\", \"subtype\": \"Figure\"}}}, {\"id\": \"d371d5f2-c634-4aeb-9fe6-92ee39dec23f\", \"type\": \"YearsTicker\", \"attributes\": {}}, {\"id\": \"c5ff3cf6-5c23-497f-9315-f9aa5b6c6eab\", \"type\": \"DataRange1d\", \"attributes\": {\"callback\": null}}, {\"id\": \"69dbe78d-3aaf-4f50-85c1-dee57498a915\", \"type\": \"GlyphRenderer\", \"attributes\": {\"glyph\": {\"id\": \"222c7df9-e458-458c-92fe-a2f5355cd0af\", \"type\": \"Line\"}, \"data_source\": {\"id\": \"2ea26970-c5c7-4cb2-923a-b1019c859e19\", \"type\": \"ColumnDataSource\"}, \"selection_glyph\": null, \"nonselection_glyph\": {\"id\": \"ff59b3e7-dd78-41d7-94c8-a61f3f310060\", \"type\": \"Line\"}, \"hover_glyph\": null}}, {\"id\": \"72e96849-3e8c-4c44-ab04-256afb25acdf\", \"type\": \"Grid\", \"attributes\": {\"dimension\": 1, \"ticker\": {\"id\": \"a4edac08-0933-403f-99f3-2698103bd651\", \"type\": \"BasicTicker\"}, \"plot\": {\"id\": \"539cc651-9dee-493e-9bdf-18650276ba50\", \"type\": \"Plot\", \"subtype\": \"Figure\"}}}, {\"id\": \"81e9c332-d959-4699-b6ad-763230f82235\", \"type\": \"PanTool\", \"attributes\": {\"plot\": {\"id\": \"539cc651-9dee-493e-9bdf-18650276ba50\", \"type\": \"Plot\", \"subtype\": \"Figure\"}}}, {\"id\": \"ff322ad0-b7e6-4fe6-b059-ffef0a3a7d77\", \"type\": \"BasicTickFormatter\", \"attributes\": {}}, {\"id\": \"17b776d3-b44a-4179-aabc-cf7f7cae78f8\", \"type\": \"MonthsTicker\", \"attributes\": {\"months\": [0, 2, 4, 6, 8, 10]}}, {\"id\": \"bb39a69e-71dd-49b2-b1c8-3899f6ffc16c\", \"type\": \"LinearAxis\", \"attributes\": {\"plot\": {\"id\": \"539cc651-9dee-493e-9bdf-18650276ba50\", \"type\": \"Plot\", \"subtype\": \"Figure\"}, \"formatter\": {\"id\": \"a9860b8b-a431-4d53-ba31-47d45089f3d4\", \"type\": \"BasicTickFormatter\"}, \"axis_label\": \"Mean nr. of stations\", \"ticker\": {\"id\": \"a4edac08-0933-403f-99f3-2698103bd651\", \"type\": \"BasicTicker\"}}}, {\"id\": \"539cc651-9dee-493e-9bdf-18650276ba50\", \"type\": \"Plot\", \"attributes\": {\"plot_height\": 300, \"tools\": [{\"id\": \"81e9c332-d959-4699-b6ad-763230f82235\", \"type\": \"PanTool\"}, {\"id\": \"03d46d81-f5b8-4bf2-9237-e1a36670a62a\", \"type\": \"WheelZoomTool\"}, {\"id\": \"66f61986-b582-4c9f-b5f3-38f3c43b3bf6\", \"type\": \"BoxZoomTool\"}, {\"id\": \"e333e0b5-6c82-4977-ae4f-918ef4685f4f\", \"type\": \"HoverTool\"}, {\"id\": \"afc704c4-01cf-45da-a29f-1e6f03858ab7\", \"type\": \"ResetTool\"}, {\"id\": \"d13ce4d8-32db-49b1-bb50-2128ef4df501\", \"type\": \"PreviewSaveTool\"}], \"below\": [{\"id\": \"63642279-9932-44ab-8391-5b048d1255dd\", \"type\": \"DatetimeAxis\"}], \"left\": [{\"id\": \"bb39a69e-71dd-49b2-b1c8-3899f6ffc16c\", \"type\": \"LinearAxis\"}], \"y_range\": {\"id\": \"ce71e18d-1e58-4cc1-83d6-8b5be5497eac\", \"type\": \"DataRange1d\"}, \"renderers\": [{\"id\": \"63642279-9932-44ab-8391-5b048d1255dd\", \"type\": \"DatetimeAxis\"}, {\"id\": \"2ba76cc5-af7f-4974-9f98-149c040dca3b\", \"type\": \"Grid\"}, {\"id\": \"bb39a69e-71dd-49b2-b1c8-3899f6ffc16c\", \"type\": \"LinearAxis\"}, {\"id\": \"72e96849-3e8c-4c44-ab04-256afb25acdf\", \"type\": \"Grid\"}, {\"id\": \"e6225160-2377-4ee9-9e11-70044484db7a\", \"type\": \"BoxAnnotation\"}, {\"id\": \"0d457cf5-a80b-43c5-b83d-406cb5d1261d\", \"type\": \"GlyphRenderer\"}], \"plot_width\": 800, \"x_range\": {\"id\": \"0c3ec427-9fd0-4167-a535-6698333ffe54\", \"type\": \"DataRange1d\"}, \"tool_events\": {\"id\": \"0e953bcb-51de-489a-a41d-e1a62a3a42c7\", \"type\": \"ToolEvents\"}}, \"subtype\": \"Figure\"}, {\"id\": \"705f85b3-62e0-4877-97ba-a8256d37a398\", \"type\": \"BasicTickFormatter\", \"attributes\": {}}, {\"id\": \"8c057d6b-865d-4f35-b39a-4a217b0b77f8\", \"type\": \"Line\", \"attributes\": {\"y\": {\"field\": \"y\"}, \"x\": {\"field\": \"x\"}}}, {\"id\": \"2b8b1e14-3284-416b-bc8c-564a5f1e8a84\", \"type\": \"MonthsTicker\", \"attributes\": {\"months\": [0, 1, 2, 3, 4, 5, 6, 7, 8, 9, 10, 11]}}, {\"id\": \"85cbb28e-f6cb-4d31-94e9-23fcfe80a016\", \"type\": \"BoxAnnotation\", \"attributes\": {\"line_color\": {\"value\": \"black\"}, \"fill_color\": {\"value\": \"lightgrey\"}, \"plot\": null, \"level\": \"overlay\", \"left_units\": \"screen\", \"right_units\": \"screen\", \"fill_alpha\": {\"value\": 0.5}, \"line_dash\": [4, 4], \"render_mode\": \"css\", \"bottom_units\": \"screen\", \"line_width\": {\"value\": 2}, \"top_units\": \"screen\", \"line_alpha\": {\"value\": 1.0}}}, {\"id\": \"8be94e53-3dc6-425c-830e-2f6ef97527f1\", \"type\": \"WheelZoomTool\", \"attributes\": {\"plot\": {\"id\": \"538fc45c-e3f7-4fc9-a5a5-15da6b8bd203\", \"type\": \"Plot\", \"subtype\": \"Figure\"}}}, {\"id\": \"529e7df7-fa44-4de9-aa98-64f816256d29\", \"type\": \"DatetimeTicker\", \"attributes\": {\"num_minor_ticks\": 5}}, {\"id\": \"e7a36ca7-3dea-48ca-914b-fcaa9387bda2\", \"type\": \"MonthsTicker\", \"attributes\": {\"months\": [0, 1, 2, 3, 4, 5, 6, 7, 8, 9, 10, 11]}}, {\"id\": \"c5ea0fe6-448e-4a25-a0fe-5d82b559790e\", \"type\": \"MonthsTicker\", \"attributes\": {\"months\": [0, 4, 8]}}, {\"id\": \"ac89252e-a4c7-4a69-a9ea-a8bf7928a952\", \"type\": \"MonthsTicker\", \"attributes\": {\"months\": [0, 2, 4, 6, 8, 10]}}, {\"id\": \"b07afa72-d54c-44a1-a419-8ff4c2709b03\", \"type\": \"DaysTicker\", \"attributes\": {\"days\": [1, 15]}}, {\"id\": \"7a6e7822-8529-4e9c-b39c-28e7bb84e699\", \"type\": \"AdaptiveTicker\", \"attributes\": {\"min_interval\": 3600000.0, \"base\": 24, \"num_minor_ticks\": 0, \"max_interval\": 43200000.0, \"mantissas\": [1, 2, 4, 6, 8, 12]}}, {\"id\": \"03bc5918-009e-45be-bf42-53669fe8b6f9\", \"type\": \"DaysTicker\", \"attributes\": {\"days\": [1, 8, 15, 22]}}, {\"id\": \"66317d16-bdb4-4fa9-a213-2754511f2c5b\", \"type\": \"DatetimeAxis\", \"attributes\": {\"plot\": {\"id\": \"77874e5e-0dc3-43aa-9f84-7b7c2a441926\", \"type\": \"Plot\", \"subtype\": \"Figure\"}, \"formatter\": {\"id\": \"baf7fec1-17b3-454b-9f18-5f195ba5c34d\", \"type\": \"DatetimeTickFormatter\"}, \"ticker\": {\"id\": \"529e7df7-fa44-4de9-aa98-64f816256d29\", \"type\": \"DatetimeTicker\"}}}, {\"id\": \"538fc45c-e3f7-4fc9-a5a5-15da6b8bd203\", \"type\": \"Plot\", \"attributes\": {\"tools\": [{\"id\": \"76741326-19dc-4faa-961a-6fd9ab4517a4\", \"type\": \"PanTool\"}, {\"id\": \"8be94e53-3dc6-425c-830e-2f6ef97527f1\", \"type\": \"WheelZoomTool\"}, {\"id\": \"307a499f-02c8-4ed4-a36e-081820481e4e\", \"type\": \"BoxZoomTool\"}, {\"id\": \"8a1f4f70-b171-4361-a9e6-268e5c8aa113\", \"type\": \"HoverTool\"}, {\"id\": \"9e2f8cfd-6653-4dfc-ac7d-a56ffb9d8ed8\", \"type\": \"ResetTool\"}, {\"id\": \"fc78c170-9812-4b34-89b8-d8ebfba1b80c\", \"type\": \"PreviewSaveTool\"}], \"plot_height\": 400, \"title_text_font_size\": {\"value\": \"22pt\"}, \"below\": [{\"id\": \"f61f2942-88b0-4b85-b8ff-61e14e33bf1e\", \"type\": \"DatetimeAxis\"}], \"left\": [{\"id\": \"1e190a99-60c4-4ce5-8907-dcf149e9e3f3\", \"type\": \"LinearAxis\"}], \"title\": \"Lightning count\", \"y_range\": {\"id\": \"62b0c29b-7274-419e-8c7b-23bb3680eca9\", \"type\": \"DataRange1d\"}, \"renderers\": [{\"id\": \"f61f2942-88b0-4b85-b8ff-61e14e33bf1e\", \"type\": \"DatetimeAxis\"}, {\"id\": \"1e83bab3-f0f6-4077-894e-c0ddacc3c7ba\", \"type\": \"Grid\"}, {\"id\": \"1e190a99-60c4-4ce5-8907-dcf149e9e3f3\", \"type\": \"LinearAxis\"}, {\"id\": \"6fe30d71-7a20-4858-b933-a2d9f32b844b\", \"type\": \"Grid\"}, {\"id\": \"85cbb28e-f6cb-4d31-94e9-23fcfe80a016\", \"type\": \"BoxAnnotation\"}, {\"id\": \"69dbe78d-3aaf-4f50-85c1-dee57498a915\", \"type\": \"GlyphRenderer\"}], \"plot_width\": 800, \"x_range\": {\"id\": \"0c3ec427-9fd0-4167-a535-6698333ffe54\", \"type\": \"DataRange1d\"}, \"tool_events\": {\"id\": \"727e03ba-772f-418b-9e84-fd5012e8b48a\", \"type\": \"ToolEvents\"}}, \"subtype\": \"Figure\"}, {\"id\": \"baf7fec1-17b3-454b-9f18-5f195ba5c34d\", \"type\": \"DatetimeTickFormatter\", \"attributes\": {}}, {\"id\": \"2ba76cc5-af7f-4974-9f98-149c040dca3b\", \"type\": \"Grid\", \"attributes\": {\"ticker\": {\"id\": \"2f3a5afa-10f1-4d8d-a1c6-cd69ab8273f5\", \"type\": \"DatetimeTicker\"}, \"plot\": {\"id\": \"539cc651-9dee-493e-9bdf-18650276ba50\", \"type\": \"Plot\", \"subtype\": \"Figure\"}}}, {\"id\": \"a783ad93-7174-40f0-ac8b-bec67bcad6de\", \"type\": \"GlyphRenderer\", \"attributes\": {\"glyph\": {\"id\": \"dd4c094c-8cea-4db1-8852-d56585905fa1\", \"type\": \"Line\"}, \"data_source\": {\"id\": \"c78b647c-d9b2-4d88-beaf-517a103064bb\", \"type\": \"ColumnDataSource\"}, \"selection_glyph\": null, \"nonselection_glyph\": {\"id\": \"4ce5ed5a-43e3-4155-a8f4-2f5c1513fd51\", \"type\": \"Line\"}, \"hover_glyph\": null}}, {\"id\": \"11c0f38a-eb05-49b3-82fb-692ba47290be\", \"type\": \"DaysTicker\", \"attributes\": {\"days\": [1, 8, 15, 22]}}, {\"id\": \"0e953bcb-51de-489a-a41d-e1a62a3a42c7\", \"type\": \"ToolEvents\", \"attributes\": {}}, {\"id\": \"f8a01821-9e09-430a-9ab0-30aacfb63995\", \"type\": \"BasicTicker\", \"attributes\": {}}, {\"id\": \"ed835eda-e874-44d0-a639-f33037fdc9dc\", \"type\": \"WheelZoomTool\", \"attributes\": {\"plot\": {\"id\": \"77874e5e-0dc3-43aa-9f84-7b7c2a441926\", \"type\": \"Plot\", \"subtype\": \"Figure\"}}}, {\"id\": \"727e03ba-772f-418b-9e84-fd5012e8b48a\", \"type\": \"ToolEvents\", \"attributes\": {}}, {\"id\": \"dd4c094c-8cea-4db1-8852-d56585905fa1\", \"type\": \"Line\", \"attributes\": {\"line_color\": {\"value\": \"blue\"}, \"y\": {\"field\": \"y\"}, \"x\": {\"field\": \"x\"}}}, {\"id\": \"4be43a0f-3487-47cc-8e0e-5fca221e826d\", \"type\": \"GridPlot\", \"attributes\": {\"children\": [[{\"id\": \"538fc45c-e3f7-4fc9-a5a5-15da6b8bd203\", \"type\": \"Plot\", \"subtype\": \"Figure\"}], [{\"id\": \"77874e5e-0dc3-43aa-9f84-7b7c2a441926\", \"type\": \"Plot\", \"subtype\": \"Figure\"}], [{\"id\": \"539cc651-9dee-493e-9bdf-18650276ba50\", \"type\": \"Plot\", \"subtype\": \"Figure\"}]]}}, {\"id\": \"6bef404f-3a27-4977-b677-4d8e97af1290\", \"type\": \"MonthsTicker\", \"attributes\": {\"months\": [0, 4, 8]}}, {\"id\": \"0f62d83f-181d-4ef7-b689-96a5bad72f5f\", \"type\": \"AdaptiveTicker\", \"attributes\": {\"min_interval\": 1000.0, \"base\": 60, \"num_minor_ticks\": 0, \"max_interval\": 1800000.0, \"mantissas\": [1, 2, 5, 10, 15, 20, 30]}}, {\"id\": \"606ebf9f-e27b-479c-a58c-c2e1eb454a0d\", \"type\": \"DatetimeTickFormatter\", \"attributes\": {}}, {\"id\": \"2f3a5afa-10f1-4d8d-a1c6-cd69ab8273f5\", \"type\": \"DatetimeTicker\", \"attributes\": {\"num_minor_ticks\": 5}}, {\"id\": \"6d8a5a63-2181-4040-b1d5-2987049d1397\", \"type\": \"Grid\", \"attributes\": {\"ticker\": {\"id\": \"529e7df7-fa44-4de9-aa98-64f816256d29\", \"type\": \"DatetimeTicker\"}, \"plot\": {\"id\": \"77874e5e-0dc3-43aa-9f84-7b7c2a441926\", \"type\": \"Plot\", \"subtype\": \"Figure\"}}}, {\"id\": \"897971ac-89fe-45a9-92b3-741438b082db\", \"type\": \"DaysTicker\", \"attributes\": {\"days\": [1, 4, 7, 10, 13, 16, 19, 22, 25, 28]}}, {\"id\": \"b33d6c53-fd53-4a20-b8d1-0c14a96d4e90\", \"type\": \"MonthsTicker\", \"attributes\": {\"months\": [0, 6]}}, {\"id\": \"205e13eb-289d-4e16-a271-f7e436216d8f\", \"type\": \"ToolEvents\", \"attributes\": {}}, {\"id\": \"dd0cdebc-c040-426c-8813-15accacd5e59\", \"type\": \"Line\", \"attributes\": {\"line_color\": {\"value\": \"#1f77b4\"}, \"line_alpha\": {\"value\": 0.1}, \"y\": {\"field\": \"y\"}, \"x\": {\"field\": \"x\"}}}, {\"id\": \"a6aa795d-ab6d-457a-b9ec-7c094cd264d5\", \"type\": \"MonthsTicker\", \"attributes\": {\"months\": [0, 6]}}, {\"id\": \"3be0a794-5f7c-49f7-9606-c68f610bb4d5\", \"type\": \"DatetimeTickFormatter\", \"attributes\": {}}, {\"id\": \"1e190a99-60c4-4ce5-8907-dcf149e9e3f3\", \"type\": \"LinearAxis\", \"attributes\": {\"plot\": {\"id\": \"538fc45c-e3f7-4fc9-a5a5-15da6b8bd203\", \"type\": \"Plot\", \"subtype\": \"Figure\"}, \"formatter\": {\"id\": \"705f85b3-62e0-4877-97ba-a8256d37a398\", \"type\": \"BasicTickFormatter\"}, \"axis_label\": \"Nr. of lightning strikes\", \"ticker\": {\"id\": \"f8a01821-9e09-430a-9ab0-30aacfb63995\", \"type\": \"BasicTicker\"}}}, {\"id\": \"2ea26970-c5c7-4cb2-923a-b1019c859e19\", \"type\": \"ColumnDataSource\", \"attributes\": {\"callback\": null, \"column_names\": [\"y\", \"x\"], \"data\": {\"y\": [45, 77, 144, 117, 55, 39, 76, 88, 96, 222, 122, 180, 459, 487, 520, 550, 324, 135, 17, 5, 1, 1, 2, 9, 1, 0, 0, 0, 0, 1, 2, 17, 5, 0, 0, 0, 14, 16, 0, 2, 3, 0, 83, 121, 195, 778, 1371, 954], \"x\": [1451608200000.0, 1451611800000.0, 1451615400000.0, 1451619000000.0, 1451622600000.0, 1451626200000.0, 1451629800000.0, 1451633400000.0, 1451637000000.0, 1451640600000.0, 1451644200000.0, 1451647800000.0, 1451651400000.0, 1451655000000.0, 1451658600000.0, 1451662200000.0, 1451665800000.0, 1451669400000.0, 1451673000000.0, 1451676600000.0, 1451680200000.0, 1451683800000.0, 1451687400000.0, 1451691000000.0, 1451694600000.0, 1451698200000.0, 1451701800000.0, 1451705400000.0, 1451709000000.0, 1451712600000.0, 1451716200000.0, 1451719800000.0, 1451723400000.0, 1451727000000.0, 1451730600000.0, 1451734200000.0, 1451737800000.0, 1451741400000.0, 1451745000000.0, 1451748600000.0, 1451752200000.0, 1451755800000.0, 1451759400000.0, 1451763000000.0, 1451766600000.0, 1451770200000.0, 1451773800000.0, 1451777400000.0]}}}, {\"id\": \"bef6d27b-a890-4b2d-9f66-5604bd6e32e7\", \"type\": \"BasicTicker\", \"attributes\": {}}, {\"id\": \"afc704c4-01cf-45da-a29f-1e6f03858ab7\", \"type\": \"ResetTool\", \"attributes\": {\"plot\": {\"id\": \"539cc651-9dee-493e-9bdf-18650276ba50\", \"type\": \"Plot\", \"subtype\": \"Figure\"}}}, {\"id\": \"77874e5e-0dc3-43aa-9f84-7b7c2a441926\", \"type\": \"Plot\", \"attributes\": {\"plot_height\": 300, \"tools\": [{\"id\": \"044e4441-5107-4147-9651-358980d47bc5\", \"type\": \"PanTool\"}, {\"id\": \"ed835eda-e874-44d0-a639-f33037fdc9dc\", \"type\": \"WheelZoomTool\"}, {\"id\": \"225afd2b-c70d-4d08-b27c-772f326417c3\", \"type\": \"BoxZoomTool\"}, {\"id\": \"42e4f2ed-1d5d-44ea-8fdb-97b961e4cbab\", \"type\": \"HoverTool\"}, {\"id\": \"1a8de69d-70ae-4c0e-ac4b-2883d551f446\", \"type\": \"ResetTool\"}, {\"id\": \"768bde85-e6f7-4273-811f-c7db37d7ec20\", \"type\": \"PreviewSaveTool\"}], \"below\": [{\"id\": \"66317d16-bdb4-4fa9-a213-2754511f2c5b\", \"type\": \"DatetimeAxis\"}], \"left\": [{\"id\": \"2c4a635d-4bf2-4fde-b5b8-3a8331703489\", \"type\": \"LinearAxis\"}], \"y_range\": {\"id\": \"c5ff3cf6-5c23-497f-9315-f9aa5b6c6eab\", \"type\": \"DataRange1d\"}, \"renderers\": [{\"id\": \"66317d16-bdb4-4fa9-a213-2754511f2c5b\", \"type\": \"DatetimeAxis\"}, {\"id\": \"6d8a5a63-2181-4040-b1d5-2987049d1397\", \"type\": \"Grid\"}, {\"id\": \"2c4a635d-4bf2-4fde-b5b8-3a8331703489\", \"type\": \"LinearAxis\"}, {\"id\": \"77d1eef4-b49a-4b08-95b6-f81daf09bd2b\", \"type\": \"Grid\"}, {\"id\": \"24c30c4f-8fc4-4aff-a1d5-6b22213050c8\", \"type\": \"BoxAnnotation\"}, {\"id\": \"a783ad93-7174-40f0-ac8b-bec67bcad6de\", \"type\": \"GlyphRenderer\"}], \"plot_width\": 800, \"x_range\": {\"id\": \"0c3ec427-9fd0-4167-a535-6698333ffe54\", \"type\": \"DataRange1d\"}, \"tool_events\": {\"id\": \"205e13eb-289d-4e16-a271-f7e436216d8f\", \"type\": \"ToolEvents\"}}, \"subtype\": \"Figure\"}, {\"id\": \"0c3ec427-9fd0-4167-a535-6698333ffe54\", \"type\": \"DataRange1d\", \"attributes\": {\"callback\": null}}, {\"id\": \"c78b647c-d9b2-4d88-beaf-517a103064bb\", \"type\": \"ColumnDataSource\", \"attributes\": {\"callback\": null, \"column_names\": [\"y\", \"x\"], \"data\": {\"y\": [14.933333333333328, 13.462337662337664, 12.939583333333339, 13.115384615384617, 13.363636363636362, 11.497435897435896, 10.873684210526317, 11.102272727272727, 11.323958333333337, 12.490990990990996, 12.263114754098359, 13.006666666666671, 12.371677559912857, 12.24558521560576, 12.899038461538458, 12.876909090909077, 12.286419753086424, 12.95703703703704, 12.894117647058822, 10.74, 17.7, 23.6, 10.05, 17.233333333333338, 18.8, \"NaN\", \"NaN\", \"NaN\", \"NaN\", 17.0, 6.25, 8.523529411764706, 14.379999999999999, \"NaN\", \"NaN\", \"NaN\", 17.192857142857143, 11.681249999999999, \"NaN\", 6.3999999999999995, 20.466666666666665, \"NaN\", 13.155421686746989, 12.68760330578512, 12.777435897435891, 12.882519280205672, 12.86484318016047, 13.332075471698124], \"x\": [1451608200000.0, 1451611800000.0, 1451615400000.0, 1451619000000.0, 1451622600000.0, 1451626200000.0, 1451629800000.0, 1451633400000.0, 1451637000000.0, 1451640600000.0, 1451644200000.0, 1451647800000.0, 1451651400000.0, 1451655000000.0, 1451658600000.0, 1451662200000.0, 1451665800000.0, 1451669400000.0, 1451673000000.0, 1451676600000.0, 1451680200000.0, 1451683800000.0, 1451687400000.0, 1451691000000.0, 1451694600000.0, 1451698200000.0, 1451701800000.0, 1451705400000.0, 1451709000000.0, 1451712600000.0, 1451716200000.0, 1451719800000.0, 1451723400000.0, 1451727000000.0, 1451730600000.0, 1451734200000.0, 1451737800000.0, 1451741400000.0, 1451745000000.0, 1451748600000.0, 1451752200000.0, 1451755800000.0, 1451759400000.0, 1451763000000.0, 1451766600000.0, 1451770200000.0, 1451773800000.0, 1451777400000.0]}}}, {\"id\": \"e6225160-2377-4ee9-9e11-70044484db7a\", \"type\": \"BoxAnnotation\", \"attributes\": {\"line_color\": {\"value\": \"black\"}, \"fill_color\": {\"value\": \"lightgrey\"}, \"plot\": null, \"level\": \"overlay\", \"left_units\": \"screen\", \"right_units\": \"screen\", \"fill_alpha\": {\"value\": 0.5}, \"line_dash\": [4, 4], \"render_mode\": \"css\", \"bottom_units\": \"screen\", \"line_width\": {\"value\": 2}, \"top_units\": \"screen\", \"line_alpha\": {\"value\": 1.0}}}, {\"id\": \"f61f2942-88b0-4b85-b8ff-61e14e33bf1e\", \"type\": \"DatetimeAxis\", \"attributes\": {\"plot\": {\"id\": \"538fc45c-e3f7-4fc9-a5a5-15da6b8bd203\", \"type\": \"Plot\", \"subtype\": \"Figure\"}, \"formatter\": {\"id\": \"3be0a794-5f7c-49f7-9606-c68f610bb4d5\", \"type\": \"DatetimeTickFormatter\"}, \"axis_label\": \"Date\", \"ticker\": {\"id\": \"fcd3f4aa-d35f-4b56-965b-da8eadc47d91\", \"type\": \"DatetimeTicker\"}}}, {\"id\": \"0615e574-b39d-423d-8df4-95a6dcc3e637\", \"type\": \"MonthsTicker\", \"attributes\": {\"months\": [0, 4, 8]}}, {\"id\": \"62b0c29b-7274-419e-8c7b-23bb3680eca9\", \"type\": \"DataRange1d\", \"attributes\": {\"callback\": null}}, {\"id\": \"2c4a635d-4bf2-4fde-b5b8-3a8331703489\", \"type\": \"LinearAxis\", \"attributes\": {\"plot\": {\"id\": \"77874e5e-0dc3-43aa-9f84-7b7c2a441926\", \"type\": \"Plot\", \"subtype\": \"Figure\"}, \"formatter\": {\"id\": \"ff322ad0-b7e6-4fe6-b059-ffef0a3a7d77\", \"type\": \"BasicTickFormatter\"}, \"axis_label\": \"Error\", \"ticker\": {\"id\": \"bef6d27b-a890-4b2d-9f66-5604bd6e32e7\", \"type\": \"BasicTicker\"}}}, {\"id\": \"f52b6508-8734-436b-8939-f526ace485b0\", \"type\": \"YearsTicker\", \"attributes\": {}}, {\"id\": \"42e4f2ed-1d5d-44ea-8fdb-97b961e4cbab\", \"type\": \"HoverTool\", \"attributes\": {\"callback\": null, \"plot\": {\"id\": \"77874e5e-0dc3-43aa-9f84-7b7c2a441926\", \"type\": \"Plot\", \"subtype\": \"Figure\"}}}, {\"id\": \"ce71e18d-1e58-4cc1-83d6-8b5be5497eac\", \"type\": \"DataRange1d\", \"attributes\": {\"callback\": null}}, {\"id\": \"fcd3f4aa-d35f-4b56-965b-da8eadc47d91\", \"type\": \"DatetimeTicker\", \"attributes\": {\"num_minor_ticks\": 5}}, {\"id\": \"a1d8817e-49b0-4167-b6a8-3e2c89871dcd\", \"type\": \"AdaptiveTicker\", \"attributes\": {\"min_interval\": 3600000.0, \"base\": 24, \"num_minor_ticks\": 0, \"max_interval\": 43200000.0, \"mantissas\": [1, 2, 4, 6, 8, 12]}}, {\"id\": \"de10fcf2-4d0d-4ae8-8474-0c9d011ab5ac\", \"type\": \"AdaptiveTicker\", \"attributes\": {\"max_interval\": 500.0, \"num_minor_ticks\": 0}}, {\"id\": \"1a8de69d-70ae-4c0e-ac4b-2883d551f446\", \"type\": \"ResetTool\", \"attributes\": {\"plot\": {\"id\": \"77874e5e-0dc3-43aa-9f84-7b7c2a441926\", \"type\": \"Plot\", \"subtype\": \"Figure\"}}}, {\"id\": \"8b4a5d57-7e5d-4fac-a861-6dd2587254c5\", \"type\": \"MonthsTicker\", \"attributes\": {\"months\": [0, 6]}}, {\"id\": \"a9860b8b-a431-4d53-ba31-47d45089f3d4\", \"type\": \"BasicTickFormatter\", \"attributes\": {}}, {\"id\": \"8a1f4f70-b171-4361-a9e6-268e5c8aa113\", \"type\": \"HoverTool\", \"attributes\": {\"callback\": null, \"plot\": {\"id\": \"538fc45c-e3f7-4fc9-a5a5-15da6b8bd203\", \"type\": \"Plot\", \"subtype\": \"Figure\"}}}, {\"id\": \"1e83bab3-f0f6-4077-894e-c0ddacc3c7ba\", \"type\": \"Grid\", \"attributes\": {\"ticker\": {\"id\": \"fcd3f4aa-d35f-4b56-965b-da8eadc47d91\", \"type\": \"DatetimeTicker\"}, \"plot\": {\"id\": \"538fc45c-e3f7-4fc9-a5a5-15da6b8bd203\", \"type\": \"Plot\", \"subtype\": \"Figure\"}}}, {\"id\": \"e333e0b5-6c82-4977-ae4f-918ef4685f4f\", \"type\": \"HoverTool\", \"attributes\": {\"callback\": null, \"plot\": {\"id\": \"539cc651-9dee-493e-9bdf-18650276ba50\", \"type\": \"Plot\", \"subtype\": \"Figure\"}}}, {\"id\": \"24c30c4f-8fc4-4aff-a1d5-6b22213050c8\", \"type\": \"BoxAnnotation\", \"attributes\": {\"line_color\": {\"value\": \"black\"}, \"fill_color\": {\"value\": \"lightgrey\"}, \"plot\": null, \"level\": \"overlay\", \"left_units\": \"screen\", \"right_units\": \"screen\", \"fill_alpha\": {\"value\": 0.5}, \"line_dash\": [4, 4], \"render_mode\": \"css\", \"bottom_units\": \"screen\", \"line_width\": {\"value\": 2}, \"top_units\": \"screen\", \"line_alpha\": {\"value\": 1.0}}}, {\"id\": \"65c91754-1fcf-4b94-a55c-f58472f89862\", \"type\": \"AdaptiveTicker\", \"attributes\": {\"min_interval\": 1000.0, \"base\": 60, \"num_minor_ticks\": 0, \"max_interval\": 1800000.0, \"mantissas\": [1, 2, 5, 10, 15, 20, 30]}}, {\"id\": \"4e740363-59c6-4e64-b927-ce17cdcfe633\", \"type\": \"AdaptiveTicker\", \"attributes\": {\"max_interval\": 500.0, \"num_minor_ticks\": 0}}, {\"id\": \"044e4441-5107-4147-9651-358980d47bc5\", \"type\": \"PanTool\", \"attributes\": {\"plot\": {\"id\": \"77874e5e-0dc3-43aa-9f84-7b7c2a441926\", \"type\": \"Plot\", \"subtype\": \"Figure\"}}}, {\"id\": \"63642279-9932-44ab-8391-5b048d1255dd\", \"type\": \"DatetimeAxis\", \"attributes\": {\"plot\": {\"id\": \"539cc651-9dee-493e-9bdf-18650276ba50\", \"type\": \"Plot\", \"subtype\": \"Figure\"}, \"formatter\": {\"id\": \"606ebf9f-e27b-479c-a58c-c2e1eb454a0d\", \"type\": \"DatetimeTickFormatter\"}, \"axis_label\": \"Date\", \"ticker\": {\"id\": \"2f3a5afa-10f1-4d8d-a1c6-cd69ab8273f5\", \"type\": \"DatetimeTicker\"}}}, {\"id\": \"ff59b3e7-dd78-41d7-94c8-a61f3f310060\", \"type\": \"Line\", \"attributes\": {\"line_color\": {\"value\": \"#1f77b4\"}, \"line_alpha\": {\"value\": 0.1}, \"y\": {\"field\": \"y\"}, \"x\": {\"field\": \"x\"}}}, {\"id\": \"e4ca8cd7-fc1c-4503-b4d1-ec4c984d5322\", \"type\": \"DaysTicker\", \"attributes\": {\"days\": [1, 2, 3, 4, 5, 6, 7, 8, 9, 10, 11, 12, 13, 14, 15, 16, 17, 18, 19, 20, 21, 22, 23, 24, 25, 26, 27, 28, 29, 30, 31]}}, {\"id\": \"cacea7c7-06b6-43b5-97a9-398c2ad4f2f7\", \"type\": \"DaysTicker\", \"attributes\": {\"days\": [1, 2, 3, 4, 5, 6, 7, 8, 9, 10, 11, 12, 13, 14, 15, 16, 17, 18, 19, 20, 21, 22, 23, 24, 25, 26, 27, 28, 29, 30, 31]}}, {\"id\": \"ad6a4441-4626-471c-a0d0-2cc362d1609d\", \"type\": \"YearsTicker\", \"attributes\": {}}, {\"id\": \"222c7df9-e458-458c-92fe-a2f5355cd0af\", \"type\": \"Line\", \"attributes\": {\"line_color\": {\"value\": \"red\"}, \"y\": {\"field\": \"y\"}, \"x\": {\"field\": \"x\"}}}, {\"id\": \"1bd107e1-5c4d-4364-9514-31410b9530a5\", \"type\": \"MonthsTicker\", \"attributes\": {\"months\": [0, 1, 2, 3, 4, 5, 6, 7, 8, 9, 10, 11]}}, {\"id\": \"fc78c170-9812-4b34-89b8-d8ebfba1b80c\", \"type\": \"PreviewSaveTool\", \"attributes\": {\"plot\": {\"id\": \"538fc45c-e3f7-4fc9-a5a5-15da6b8bd203\", \"type\": \"Plot\", \"subtype\": \"Figure\"}}}, {\"id\": \"254097f7-4141-4dc8-ae12-5338bae6593c\", \"type\": \"AdaptiveTicker\", \"attributes\": {\"min_interval\": 3600000.0, \"base\": 24, \"num_minor_ticks\": 0, \"max_interval\": 43200000.0, \"mantissas\": [1, 2, 4, 6, 8, 12]}}, {\"id\": \"7d5c64c5-e61d-451b-b9e6-87f9e2b63045\", \"type\": \"MonthsTicker\", \"attributes\": {\"months\": [0, 2, 4, 6, 8, 10]}}, {\"id\": \"0d457cf5-a80b-43c5-b83d-406cb5d1261d\", \"type\": \"GlyphRenderer\", \"attributes\": {\"glyph\": {\"id\": \"8c057d6b-865d-4f35-b39a-4a217b0b77f8\", \"type\": \"Line\"}, \"data_source\": {\"id\": \"38ac2b32-ec9c-47f2-96e5-81171b6cb39a\", \"type\": \"ColumnDataSource\"}, \"selection_glyph\": null, \"nonselection_glyph\": {\"id\": \"dd0cdebc-c040-426c-8813-15accacd5e59\", \"type\": \"Line\"}, \"hover_glyph\": null}}, {\"id\": \"adbe4416-6522-4c41-bac1-b64c6f112c0f\", \"type\": \"DaysTicker\", \"attributes\": {\"days\": [1, 15]}}, {\"id\": \"307a499f-02c8-4ed4-a36e-081820481e4e\", \"type\": \"BoxZoomTool\", \"attributes\": {\"overlay\": {\"id\": \"85cbb28e-f6cb-4d31-94e9-23fcfe80a016\", \"type\": \"BoxAnnotation\"}, \"plot\": {\"id\": \"538fc45c-e3f7-4fc9-a5a5-15da6b8bd203\", \"type\": \"Plot\", \"subtype\": \"Figure\"}}}, {\"id\": \"f67b2b2b-51bb-42dd-81e7-fe1e5d1001a6\", \"type\": \"DaysTicker\", \"attributes\": {\"days\": [1, 4, 7, 10, 13, 16, 19, 22, 25, 28]}}, {\"id\": \"77d1eef4-b49a-4b08-95b6-f81daf09bd2b\", \"type\": \"Grid\", \"attributes\": {\"dimension\": 1, \"ticker\": {\"id\": \"bef6d27b-a890-4b2d-9f66-5604bd6e32e7\", \"type\": \"BasicTicker\"}, \"plot\": {\"id\": \"77874e5e-0dc3-43aa-9f84-7b7c2a441926\", \"type\": \"Plot\", \"subtype\": \"Figure\"}}}, {\"id\": \"225afd2b-c70d-4d08-b27c-772f326417c3\", \"type\": \"BoxZoomTool\", \"attributes\": {\"overlay\": {\"id\": \"24c30c4f-8fc4-4aff-a1d5-6b22213050c8\", \"type\": \"BoxAnnotation\"}, \"plot\": {\"id\": \"77874e5e-0dc3-43aa-9f84-7b7c2a441926\", \"type\": \"Plot\", \"subtype\": \"Figure\"}}}, {\"id\": \"1459bcc1-8653-4c78-a2ee-5280b736144d\", \"type\": \"DaysTicker\", \"attributes\": {\"days\": [1, 8, 15, 22]}}, {\"id\": \"4ce5ed5a-43e3-4155-a8f4-2f5c1513fd51\", \"type\": \"Line\", \"attributes\": {\"line_color\": {\"value\": \"#1f77b4\"}, \"line_alpha\": {\"value\": 0.1}, \"y\": {\"field\": \"y\"}, \"x\": {\"field\": \"x\"}}}, {\"id\": \"66f61986-b582-4c9f-b5f3-38f3c43b3bf6\", \"type\": \"BoxZoomTool\", \"attributes\": {\"overlay\": {\"id\": \"e6225160-2377-4ee9-9e11-70044484db7a\", \"type\": \"BoxAnnotation\"}, \"plot\": {\"id\": \"539cc651-9dee-493e-9bdf-18650276ba50\", \"type\": \"Plot\", \"subtype\": \"Figure\"}}}, {\"id\": \"b052075a-76f3-4474-b51a-264c7b4e7026\", \"type\": \"AdaptiveTicker\", \"attributes\": {\"min_interval\": 1000.0, \"base\": 60, \"num_minor_ticks\": 0, \"max_interval\": 1800000.0, \"mantissas\": [1, 2, 5, 10, 15, 20, 30]}}, {\"id\": \"af5d6ee7-d152-4dc3-91b4-78302fabd875\", \"type\": \"AdaptiveTicker\", \"attributes\": {\"max_interval\": 500.0, \"num_minor_ticks\": 0}}, {\"id\": \"9e2f8cfd-6653-4dfc-ac7d-a56ffb9d8ed8\", \"type\": \"ResetTool\", \"attributes\": {\"plot\": {\"id\": \"538fc45c-e3f7-4fc9-a5a5-15da6b8bd203\", \"type\": \"Plot\", \"subtype\": \"Figure\"}}}, {\"id\": \"76741326-19dc-4faa-961a-6fd9ab4517a4\", \"type\": \"PanTool\", \"attributes\": {\"plot\": {\"id\": \"538fc45c-e3f7-4fc9-a5a5-15da6b8bd203\", \"type\": \"Plot\", \"subtype\": \"Figure\"}}}, {\"id\": \"768bde85-e6f7-4273-811f-c7db37d7ec20\", \"type\": \"PreviewSaveTool\", \"attributes\": {\"plot\": {\"id\": \"77874e5e-0dc3-43aa-9f84-7b7c2a441926\", \"type\": \"Plot\", \"subtype\": \"Figure\"}}}, {\"id\": \"8f6180f5-0c36-4232-975c-52237f5b50df\", \"type\": \"DaysTicker\", \"attributes\": {\"days\": [1, 15]}}, {\"id\": \"a4edac08-0933-403f-99f3-2698103bd651\", \"type\": \"BasicTicker\", \"attributes\": {}}, {\"id\": \"2d7af0d2-855b-45e2-870e-ecad05ae5f0a\", \"type\": \"DaysTicker\", \"attributes\": {\"days\": [1, 4, 7, 10, 13, 16, 19, 22, 25, 28]}}, {\"id\": \"6fe30d71-7a20-4858-b933-a2d9f32b844b\", \"type\": \"Grid\", \"attributes\": {\"dimension\": 1, \"ticker\": {\"id\": \"f8a01821-9e09-430a-9ab0-30aacfb63995\", \"type\": \"BasicTicker\"}, \"plot\": {\"id\": \"538fc45c-e3f7-4fc9-a5a5-15da6b8bd203\", \"type\": \"Plot\", \"subtype\": \"Figure\"}}}, {\"id\": \"721d3ea3-5e6d-44d1-80b2-667c36abe3f5\", \"type\": \"DaysTicker\", \"attributes\": {\"days\": [1, 2, 3, 4, 5, 6, 7, 8, 9, 10, 11, 12, 13, 14, 15, 16, 17, 18, 19, 20, 21, 22, 23, 24, 25, 26, 27, 28, 29, 30, 31]}}, {\"id\": \"d13ce4d8-32db-49b1-bb50-2128ef4df501\", \"type\": \"PreviewSaveTool\", \"attributes\": {\"plot\": {\"id\": \"539cc651-9dee-493e-9bdf-18650276ba50\", \"type\": \"Plot\", \"subtype\": \"Figure\"}}}], \"root_ids\": [\"4be43a0f-3487-47cc-8e0e-5fca221e826d\"]}}};\n",
       "            var render_items = [{\"elementid\": \"0cc666c3-36f7-4274-b312-46fd37282749\", \"modelid\": \"4be43a0f-3487-47cc-8e0e-5fca221e826d\", \"docid\": \"54cc5e65-75f4-4f9a-9f71-fe7d5d8a3fc9\", \"notebook_comms_target\": \"80f813a0-05fc-4b26-8700-07e56b82b66b\"}];\n",
       "            \n",
       "            Bokeh.embed.embed_items(docs_json, render_items);\n",
       "        });\n",
       "      },\n",
       "      function(Bokeh) {\n",
       "      }\n",
       "    ];\n",
       "  \n",
       "    function run_inline_js() {\n",
       "      for (var i = 0; i < inline_js.length; i++) {\n",
       "        inline_js[i](window.Bokeh);\n",
       "      }\n",
       "    }\n",
       "  \n",
       "    if (window._bokeh_is_loading === 0) {\n",
       "      console.log(\"Bokeh: BokehJS loaded, going straight to plotting\");\n",
       "      run_inline_js();\n",
       "    } else {\n",
       "      load_libs(js_urls, function() {\n",
       "        console.log(\"Bokeh: BokehJS plotting callback run at\", now());\n",
       "        run_inline_js();\n",
       "      });\n",
       "    }\n",
       "  }(this));\n",
       "</script>"
      ]
     },
     "metadata": {},
     "output_type": "display_data"
    },
    {
     "data": {
      "text/plain": [
       "<bokeh.io._CommsHandle at 0x1127957b8>"
      ]
     },
     "execution_count": 7,
     "metadata": {},
     "output_type": "execute_result"
    }
   ],
   "source": [
    "# define Bokeh tools\n",
    "TOOLS = \"pan, wheel_zoom, box_zoom, hover, reset, save\"\n",
    "\n",
    "# calculate error bars\n",
    "#err_y1=LN_count['#sta_mean']-(LN_count['#sta_std']/(np.sqrt(LN_count['count'])))\n",
    "#err_y2=LN_count['#sta_mean']+(LN_count['#sta_std']/(np.sqrt(LN_count['count'])))\n",
    "\n",
    "fig_LN_count_a = Figure(plot_width=800, plot_height=400, title=\"Lightning count\", tools=TOOLS,\n",
    "                   x_axis_label=\"Date\", y_axis_label=\"Nr. of lightning strikes\", x_axis_type = \"datetime\", \n",
    "                 title_text_font_size='22pt')\n",
    "fig_LN_count_a.line(LN_count['count'].index, LN_count['count'].values, color='red')\n",
    "\n",
    "fig_LN_count_b = Figure(plot_width=800, plot_height=300, tools=TOOLS,\n",
    "                 y_axis_label=\"Error\", x_axis_type = \"datetime\", x_range=fig_LN_count_a.x_range)\n",
    "fig_LN_count_b.line(LN_count['err_mean'].index, LN_count['err_mean'].values, color='blue')\n",
    "\n",
    "fig_LN_count_c = Figure(plot_width=800, plot_height=300, tools=TOOLS,\n",
    "                   x_axis_label=\"Date\", y_axis_label=\"Mean nr. of stations\", x_axis_type = \"datetime\",\n",
    "                        x_range=fig_LN_count_a.x_range)\n",
    "fig_LN_count_c.line(LN_count['#sta_mean'].index, LN_count['#sta_mean'].values, color='black')\n",
    "\n",
    "fig_LN_count = gridplot([[fig_LN_count_a],[fig_LN_count_b],[fig_LN_count_c]])\n",
    "show(fig_LN_count)"
   ]
  },
  {
   "cell_type": "markdown",
   "metadata": {},
   "source": [
    "## Map data ## "
   ]
  },
  {
   "cell_type": "code",
   "execution_count": null,
   "metadata": {
    "collapsed": false
   },
   "outputs": [],
   "source": [
    "# mapping function doesnt seem to handel the large sizes well, so I am limiting the size for now\n",
    "mx = get_map(strike_data = LN_data)\n",
    "mx"
   ]
  },
  {
   "cell_type": "code",
   "execution_count": null,
   "metadata": {
    "collapsed": false
   },
   "outputs": [],
   "source": []
  }
 ],
 "metadata": {
  "anaconda-cloud": {},
  "kernelspec": {
   "display_name": "Python 3",
   "language": "python",
   "name": "python3"
  },
  "language_info": {
   "codemirror_mode": {
    "name": "ipython",
    "version": 3
   },
   "file_extension": ".py",
   "mimetype": "text/x-python",
   "name": "python",
   "nbconvert_exporter": "python",
   "pygments_lexer": "ipython3",
   "version": "3.5.2"
  },
  "widgets": {
   "state": {},
   "version": "1.1.2"
  }
 },
 "nbformat": 4,
 "nbformat_minor": 0
}
