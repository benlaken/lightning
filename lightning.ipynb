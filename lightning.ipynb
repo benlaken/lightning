{
 "cells": [
  {
   "cell_type": "markdown",
   "metadata": {},
   "source": [
    "# Process lightning data from WWLN\n",
    "This iPython notebook extracts lighning data from raw WWLN data files\n",
    "\n",
    "Code by: Jasa Calogovic (Faculty of Geodesy, University of Zagreb)\n",
    "\n",
    "Email: jcalogovic@geof.hr"
   ]
  },
  {
   "cell_type": "code",
   "execution_count": 5,
   "metadata": {
    "collapsed": false
   },
   "outputs": [
    {
     "ename": "ImportError",
     "evalue": "cannot import name 'read_WWLN'",
     "output_type": "error",
     "traceback": [
      "\u001b[0;31m---------------------------------------------------------------------------\u001b[0m",
      "\u001b[0;31mImportError\u001b[0m                               Traceback (most recent call last)",
      "\u001b[0;32m<ipython-input-5-acd1dffd8d3e>\u001b[0m in \u001b[0;36m<module>\u001b[0;34m()\u001b[0m\n\u001b[1;32m     11\u001b[0m \u001b[0;32mfrom\u001b[0m \u001b[0mbokeh\u001b[0m\u001b[0;34m.\u001b[0m\u001b[0mmodels\u001b[0m\u001b[0;34m.\u001b[0m\u001b[0msources\u001b[0m \u001b[0;32mimport\u001b[0m \u001b[0mColumnDataSource\u001b[0m\u001b[0;34m\u001b[0m\u001b[0m\n\u001b[1;32m     12\u001b[0m \u001b[0;34m\u001b[0m\u001b[0m\n\u001b[0;32m---> 13\u001b[0;31m \u001b[0;32mfrom\u001b[0m \u001b[0mstormstats\u001b[0m\u001b[0;34m.\u001b[0m\u001b[0mstorm\u001b[0m \u001b[0;32mimport\u001b[0m \u001b[0mread_WWLN\u001b[0m\u001b[0;34m\u001b[0m\u001b[0m\n\u001b[0m\u001b[1;32m     14\u001b[0m \u001b[0;34m\u001b[0m\u001b[0m\n\u001b[1;32m     15\u001b[0m \u001b[0moutput_notebook\u001b[0m\u001b[0;34m(\u001b[0m\u001b[0;34m)\u001b[0m\u001b[0;34m\u001b[0m\u001b[0m\n",
      "\u001b[0;31mImportError\u001b[0m: cannot import name 'read_WWLN'"
     ]
    }
   ],
   "source": [
    "# Load required packages\n",
    "import numpy as np\n",
    "import datetime as dt\n",
    "from datetime import timedelta\n",
    "import pandas as pd\n",
    "import os\n",
    "from bokeh.plotting import Figure, show, output_notebook, vplot\n",
    "from bokeh.charts import Bar\n",
    "from bokeh.io import gridplot\n",
    "from bokeh.models import HoverTool, Span, Range1d, LinearAxis\n",
    "from bokeh.models.sources import ColumnDataSource\n",
    "\n",
    "from stormstats.storm import read_WWLN\n",
    "\n",
    "output_notebook()"
   ]
  },
  {
   "cell_type": "markdown",
   "metadata": {},
   "source": [
    "## Various functions"
   ]
  },
  {
   "cell_type": "code",
   "execution_count": null,
   "metadata": {
    "collapsed": false
   },
   "outputs": [],
   "source": [
    "WWLN.Gen_date?"
   ]
  },
  {
   "cell_type": "markdown",
   "metadata": {},
   "source": [
    "## Define parameters"
   ]
  },
  {
   "cell_type": "code",
   "execution_count": null,
   "metadata": {
    "collapsed": false
   },
   "outputs": [],
   "source": [
    "#data_path='../data/WWLN/Jan2016/'\n",
    "data_path = \"WWLN\"\n",
    "\n",
    "#start_time=\n",
    "#end_time=\n",
    "time_step=60   # in minutes\n",
    "west_long_limit=0\n",
    "east_long_limit=30\n",
    "north_lat_limit=60\n",
    "south_lat_limit=30\n",
    "residuals_limit_us=2\n",
    "minimum_no_stations=5"
   ]
  },
  {
   "cell_type": "markdown",
   "metadata": {},
   "source": [
    "# Load data"
   ]
  },
  {
   "cell_type": "code",
   "execution_count": null,
   "metadata": {
    "collapsed": false
   },
   "outputs": [],
   "source": [
    "def read_WWLN(file):\n",
    "    \"\"\"Read WWLN file\"\"\"\n",
    "    # Read the raw data and add headings\n",
    "    tmp = pd.read_csv(file, parse_dates=True, header=None, names=['date','time','lat','lon','err','#sta'])\n",
    "    # Generate a list of datetime objects with time to miliseconds\n",
    "    list_dts = []\n",
    "    for dvals, tvals, in zip(tmp['date'], tmp['time']):\n",
    "        list_dts.append(gen_datetime(dvals, tvals))\n",
    "    dtdf = pd.DataFrame(list_dts, columns=['datetime']) # Make a dt dataframe to join\n",
    "    result = pd.concat([dtdf, tmp], axis=1)\n",
    "    result = result.drop(['date','time'],axis=1)\n",
    "    return result"
   ]
  },
  {
   "cell_type": "code",
   "execution_count": null,
   "metadata": {
    "collapsed": false
   },
   "outputs": [],
   "source": [
    "def gen_datetime(dvals, tvals):\n",
    "    dvals = [int(t) for t in dvals.split('/')]    \n",
    "    hh, mm, sec_micro = tvals.split(':')\n",
    "    hh = int(hh)\n",
    "    mm = int(mm)\n",
    "    ss, mss = sec_micro.split('.')\n",
    "    ss = int(ss)\n",
    "    mss = int(mss)\n",
    "    return dt.datetime(*dvals, hh, mm, ss, mss)"
   ]
  },
  {
   "cell_type": "code",
   "execution_count": null,
   "metadata": {
    "collapsed": false
   },
   "outputs": [],
   "source": [
    "#included_extenstions = ['loc']\n",
    "\n",
    "#listfiles = [fn for fn in os.listdir(data_path) if any(fn.endswith(ext) for ext in included_extenstions)]"
   ]
  },
  {
   "cell_type": "code",
   "execution_count": null,
   "metadata": {
    "collapsed": false
   },
   "outputs": [],
   "source": [
    "#dates_data = []\n",
    "#for file in listfiles:\n",
    "#    dates_data.append(WWLN.Gen_date(file))"
   ]
  },
  {
   "cell_type": "code",
   "execution_count": 3,
   "metadata": {
    "collapsed": false
   },
   "outputs": [
    {
     "ename": "TypeError",
     "evalue": "read_WWLN() missing 1 required positional argument: 'self'",
     "output_type": "error",
     "traceback": [
      "\u001b[0;31m---------------------------------------------------------------------------\u001b[0m",
      "\u001b[0;31mTypeError\u001b[0m                                 Traceback (most recent call last)",
      "\u001b[0;32m<ipython-input-3-4c759694dd4e>\u001b[0m in \u001b[0;36m<module>\u001b[0;34m()\u001b[0m\n\u001b[0;32m----> 1\u001b[0;31m \u001b[0mtest\u001b[0m \u001b[0;34m=\u001b[0m \u001b[0mWWLN\u001b[0m\u001b[0;34m.\u001b[0m\u001b[0mread_WWLN\u001b[0m\u001b[0;34m(\u001b[0m\u001b[0mfile\u001b[0m\u001b[0;34m=\u001b[0m\u001b[0;34m\"WWLN/test.loc\"\u001b[0m\u001b[0;34m)\u001b[0m\u001b[0;34m\u001b[0m\u001b[0m\n\u001b[0m\u001b[1;32m      2\u001b[0m \u001b[0mtest\u001b[0m\u001b[0;34m.\u001b[0m\u001b[0mhead\u001b[0m\u001b[0;34m(\u001b[0m\u001b[0;34m)\u001b[0m\u001b[0;34m\u001b[0m\u001b[0m\n",
      "\u001b[0;31mTypeError\u001b[0m: read_WWLN() missing 1 required positional argument: 'self'"
     ]
    }
   ],
   "source": [
    "test = WWLN.read_WWLN(file=\"WWLN/test.loc\")\n",
    "test.head()"
   ]
  },
  {
   "cell_type": "code",
   "execution_count": null,
   "metadata": {
    "collapsed": false
   },
   "outputs": [],
   "source": []
  },
  {
   "cell_type": "code",
   "execution_count": null,
   "metadata": {
    "collapsed": false
   },
   "outputs": [],
   "source": []
  },
  {
   "cell_type": "code",
   "execution_count": null,
   "metadata": {
    "collapsed": false
   },
   "outputs": [],
   "source": []
  },
  {
   "cell_type": "code",
   "execution_count": null,
   "metadata": {
    "collapsed": false
   },
   "outputs": [],
   "source": []
  },
  {
   "cell_type": "code",
   "execution_count": null,
   "metadata": {
    "collapsed": false
   },
   "outputs": [],
   "source": []
  },
  {
   "cell_type": "code",
   "execution_count": null,
   "metadata": {
    "collapsed": true
   },
   "outputs": [],
   "source": []
  },
  {
   "cell_type": "code",
   "execution_count": null,
   "metadata": {
    "collapsed": true
   },
   "outputs": [],
   "source": []
  }
 ],
 "metadata": {
  "kernelspec": {
   "display_name": "Python 3",
   "language": "python",
   "name": "python3"
  },
  "language_info": {
   "codemirror_mode": {
    "name": "ipython",
    "version": 3
   },
   "file_extension": ".py",
   "mimetype": "text/x-python",
   "name": "python",
   "nbconvert_exporter": "python",
   "pygments_lexer": "ipython3",
   "version": "3.5.1"
  }
 },
 "nbformat": 4,
 "nbformat_minor": 0
}
