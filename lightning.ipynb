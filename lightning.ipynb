{
 "cells": [
  {
   "cell_type": "markdown",
   "metadata": {},
   "source": [
    "# Lightning data analysis (from WWLN or Blitzortung)\n",
    "This iPython notebook extracts lighning data from raw WWLN data files or Blitzortung network.\n",
    "\n",
    "Code by: Jasa Calogovic (Faculty of Geodesy, University of Zagreb) and Benjamin Laken (UCL)\n",
    "\n",
    "Email: jcalogovic@geof.hr"
   ]
  },
  {
   "cell_type": "code",
   "execution_count": null,
   "metadata": {
    "collapsed": false
   },
   "outputs": [],
   "source": [
    "# Load required packages\n",
    "import numpy as np\n",
    "import datetime as dt\n",
    "from datetime import timedelta\n",
    "import pandas as pd\n",
    "from tqdm import tqdm\n",
    "import os\n",
    "from bokeh.plotting import Figure, show, output_notebook, vplot\n",
    "from bokeh.charts import Bar\n",
    "from bokeh.io import gridplot\n",
    "from bokeh.models import HoverTool, Span, Range1d, LinearAxis\n",
    "from bokeh.models.sources import ColumnDataSource\n",
    "\n",
    "from stormstats.storm import read_WWLN, get_map, get_data, count_lightning, gen_listfiles\n",
    "\n",
    "output_notebook()"
   ]
  },
  {
   "cell_type": "markdown",
   "metadata": {},
   "source": [
    "## Define parameters"
   ]
  },
  {
   "cell_type": "code",
   "execution_count": null,
   "metadata": {
    "collapsed": false
   },
   "outputs": [],
   "source": [
    "data_path='data/WWLN/Jan2016/'\n",
    "#data_path = \"WWLN\"\n",
    "\n",
    "# time step (in minutes) used to count number fo lightning. Max time step is 1440 (1 day)\n",
    "# and it should have multiple value of 1440 minutes.\n",
    "time_step=60\n",
    "\n",
    "# if select_area=False: all lightning are counted\n",
    "# if select_area=True: only lightning in selected area are counted (lat and lon limits are needed)\n",
    "select_area=True\n",
    "# define area to count lightning strikes (lat, lon) if select_area=True\n",
    "north_lat_limit=70\n",
    "south_lat_limit=30\n",
    "west_lon_limit=-15\n",
    "east_lon_limit=45\n",
    "# exclude all lightning data with error larger than max_error \n",
    "max_error=30\n",
    "# exclude all lightning strikes detected with less or equal than min_stations\n",
    "min_stations=5\n",
    "# note: in raw data lightning strikes detected with less than 5 stations and error larger than 30 \n",
    "# are already excluded"
   ]
  },
  {
   "cell_type": "markdown",
   "metadata": {},
   "source": [
    "## Load WWLN data and analyze it "
   ]
  },
  {
   "cell_type": "code",
   "execution_count": null,
   "metadata": {
    "collapsed": false
   },
   "outputs": [],
   "source": [
    "# generate list of files in data directory, if start_date and end_date are defined data only in this \n",
    "#period will be used\n",
    "listfiles=gen_listfiles(data_path=data_path, ext='.loc', start_date='01-01-2016', end_date='01-02-2016')\n",
    "    \n",
    "# make loop for all files\n",
    "i=0\n",
    "for file in tqdm(listfiles):\n",
    "    # read lightning data\n",
    "    LN_data = read_WWLN(file=data_path+file)\n",
    "    # --- make quality check and select lightning in given area\n",
    "    # exclude lightning data that have larger error than max_error\n",
    "    LN_data=LN_data.loc[LN_data['err']<=max_error]\n",
    "    # exclude lightning data that have less than min_stations\n",
    "    LN_data=LN_data.loc[LN_data['#sta']>=min_stations]\n",
    "    # select only lightning strikes in given area\n",
    "    if(select_area):\n",
    "        LN_data=LN_data.loc[(LN_data['lat']<=north_lat_limit) & (LN_data['lat']>=south_lat_limit) & \n",
    "                            (LN_data['lon']>=west_lon_limit) & (LN_data['lon']<=east_lon_limit)]\n",
    "    # --- Count lightning strikes according to time_step defined\n",
    "    LN_tmp=count_lightning(LN_data, time_step)\n",
    "    # add data to existing df\n",
    "    if(i>=1):\n",
    "        LN_count=LN_count.append(LN_tmp)\n",
    "    else:\n",
    "        LN_count=LN_tmp\n",
    "    i=i+1"
   ]
  },
  {
   "cell_type": "markdown",
   "metadata": {},
   "source": [
    "## Save data"
   ]
  },
  {
   "cell_type": "code",
   "execution_count": null,
   "metadata": {
    "collapsed": false
   },
   "outputs": [],
   "source": [
    "#LN_count\n",
    "LN_count.to_csv('WWLN_data_europe.csv')"
   ]
  },
  {
   "cell_type": "markdown",
   "metadata": {},
   "source": [
    "## Load data (Blitzortung)"
   ]
  },
  {
   "cell_type": "code",
   "execution_count": null,
   "metadata": {
    "collapsed": false
   },
   "outputs": [],
   "source": [
    "# get data from Blitzortung server\n",
    "get_data(start=\"2015-02-01T06:30\", end=\"2015-02-01T10:05\",\n",
    "                dl_link=\"http://data.blitzortung.org/Data_1/Protected/Strokes/\")\n",
    "\n",
    "# "
   ]
  },
  {
   "cell_type": "markdown",
   "metadata": {},
   "source": [
    "## Plot lightning results"
   ]
  },
  {
   "cell_type": "code",
   "execution_count": null,
   "metadata": {
    "collapsed": false
   },
   "outputs": [],
   "source": [
    "# define Bokeh tools\n",
    "TOOLS = \"pan, wheel_zoom, box_zoom, hover, reset, save\"\n",
    "\n",
    "# calculate error bars\n",
    "#err_y1=LN_count['#sta_mean']-(LN_count['#sta_std']/(np.sqrt(LN_count['count'])))\n",
    "#err_y2=LN_count['#sta_mean']+(LN_count['#sta_std']/(np.sqrt(LN_count['count'])))\n",
    "\n",
    "fig_LN_count_a = Figure(plot_width=800, plot_height=400, title=\"Lightning count\", tools=TOOLS,\n",
    "                   x_axis_label=\"Date\", y_axis_label=\"Nr. of lightning strikes\", x_axis_type = \"datetime\", \n",
    "                 title_text_font_size='22pt')\n",
    "fig_LN_count_a.line(LN_count['count'].index, LN_count['count'].values, color='red')\n",
    "\n",
    "fig_LN_count_b = Figure(plot_width=800, plot_height=300, tools=TOOLS,\n",
    "                 y_axis_label=\"Error\", x_axis_type = \"datetime\", x_range=fig_LN_count_a.x_range)\n",
    "fig_LN_count_b.line(LN_count['err_mean'].index, LN_count['err_mean'].values, color='blue')\n",
    "\n",
    "fig_LN_count_c = Figure(plot_width=800, plot_height=300, tools=TOOLS,\n",
    "                   x_axis_label=\"Date\", y_axis_label=\"Mean nr. of stations\", x_axis_type = \"datetime\",\n",
    "                        x_range=fig_LN_count_a.x_range)\n",
    "fig_LN_count_c.line(LN_count['#sta_mean'].index, LN_count['#sta_mean'].values, color='black')\n",
    "\n",
    "fig_LN_count = gridplot([[fig_LN_count_a],[fig_LN_count_b],[fig_LN_count_c]])\n",
    "show(fig_LN_count)"
   ]
  },
  {
   "cell_type": "markdown",
   "metadata": {},
   "source": [
    "## Map data ## "
   ]
  },
  {
   "cell_type": "code",
   "execution_count": null,
   "metadata": {
    "collapsed": false
   },
   "outputs": [],
   "source": [
    "# mapping function doesnt seem to handel the large sizes well, so I am limiting the size for now\n",
    "mx = get_map(strike_data = LN_data)\n",
    "mx"
   ]
  },
  {
   "cell_type": "code",
   "execution_count": null,
   "metadata": {
    "collapsed": false
   },
   "outputs": [],
   "source": []
  }
 ],
 "metadata": {
  "anaconda-cloud": {},
  "kernelspec": {
   "display_name": "Python [default]",
   "language": "python",
   "name": "python3"
  },
  "language_info": {
   "codemirror_mode": {
    "name": "ipython",
    "version": 3
   },
   "file_extension": ".py",
   "mimetype": "text/x-python",
   "name": "python",
   "nbconvert_exporter": "python",
   "pygments_lexer": "ipython3",
   "version": "3.5.2"
  }
 },
 "nbformat": 4,
 "nbformat_minor": 0
}
