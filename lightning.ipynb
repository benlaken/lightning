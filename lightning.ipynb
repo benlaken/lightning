{
 "cells": [
  {
   "cell_type": "markdown",
   "metadata": {},
   "source": [
    "# Process lightning data from WWLN\n",
    "This iPython notebook extracts lighning data from raw WWLN data files\n",
    "\n",
    "Code by: Jasa Calogovic (Faculty of Geodesy, University of Zagreb)\n",
    "\n",
    "Email: jcalogovic@geof.hr"
   ]
  },
  {
   "cell_type": "code",
   "execution_count": null,
   "metadata": {
    "collapsed": false
   },
   "outputs": [],
   "source": [
    "# Load required packages\n",
    "import numpy as np\n",
    "import datetime as dt\n",
    "from datetime import timedelta\n",
    "import pandas as pd\n",
    "import os\n",
    "from bokeh.plotting import Figure, show, output_notebook, vplot\n",
    "from bokeh.charts import Bar\n",
    "from bokeh.io import gridplot\n",
    "from bokeh.models import HoverTool, Span, Range1d, LinearAxis\n",
    "from bokeh.models.sources import ColumnDataSource\n",
    "\n",
    "from stormstats.storm import WWLN\n",
    "\n",
    "output_notebook()"
   ]
  },
  {
   "cell_type": "markdown",
   "metadata": {},
   "source": [
    "## Various functions"
   ]
  },
  {
   "cell_type": "code",
   "execution_count": null,
   "metadata": {
    "collapsed": false
   },
   "outputs": [],
   "source": [
    "WWLN.Gen_date?"
   ]
  },
  {
   "cell_type": "markdown",
   "metadata": {},
   "source": [
    "## Define parameters"
   ]
  },
  {
   "cell_type": "code",
   "execution_count": null,
   "metadata": {
    "collapsed": false
   },
   "outputs": [],
   "source": [
    "data_path='../data/WWLN/Jan2016/'\n",
    "\n",
    "#start_time=\n",
    "#end_time=\n",
    "time_step=60   # in minutes\n",
    "west_long_limit=0\n",
    "east_long_limit=30\n",
    "north_lat_limit=60\n",
    "south_lat_limit=30\n",
    "residuals_limit_us=2\n",
    "minimum_no_stations=5"
   ]
  },
  {
   "cell_type": "markdown",
   "metadata": {},
   "source": [
    "# Load data"
   ]
  },
  {
   "cell_type": "code",
   "execution_count": null,
   "metadata": {
    "collapsed": false
   },
   "outputs": [],
   "source": [
    "included_extenstions = ['loc']\n",
    "\n",
    "listfiles = [fn for fn in os.listdir(data_path) if any(fn.endswith(ext) for ext in included_extenstions)]"
   ]
  },
  {
   "cell_type": "code",
   "execution_count": null,
   "metadata": {
    "collapsed": false
   },
   "outputs": [],
   "source": [
    "dates_data = []\n",
    "for file in listfiles:\n",
    "    dates_data.append(WWLN.Gen_date(file))"
   ]
  },
  {
   "cell_type": "code",
   "execution_count": null,
   "metadata": {
    "collapsed": false
   },
   "outputs": [],
   "source": [
    "file=data_path+listfiles[0]\n",
    "test = pd.read_csv(file, index_col=0, parse_dates=True)"
   ]
  },
  {
   "cell_type": "code",
   "execution_count": null,
   "metadata": {
    "collapsed": false
   },
   "outputs": [],
   "source": [
    "test.head()"
   ]
  },
  {
   "cell_type": "code",
   "execution_count": null,
   "metadata": {
    "collapsed": true
   },
   "outputs": [],
   "source": []
  }
 ],
 "metadata": {
  "kernelspec": {
   "display_name": "Python 3",
   "language": "python",
   "name": "python3"
  },
  "language_info": {
   "codemirror_mode": {
    "name": "ipython",
    "version": 3
   },
   "file_extension": ".py",
   "mimetype": "text/x-python",
   "name": "python",
   "nbconvert_exporter": "python",
   "pygments_lexer": "ipython3",
   "version": "3.5.1"
  }
 },
 "nbformat": 4,
 "nbformat_minor": 0
}
