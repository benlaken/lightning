{
 "cells": [
  {
   "cell_type": "markdown",
   "metadata": {},
   "source": [
    "# Process lightning data from WWLN\n",
    "This iPython notebook extracts lighning data from raw WWLN data files\n",
    "\n",
    "Code by: Jasa Calogovic (Faculty of Geodesy, University of Zagreb)\n",
    "\n",
    "Email: jcalogovic@geof.hr"
   ]
  },
  {
   "cell_type": "code",
   "execution_count": 1,
   "metadata": {
    "collapsed": false
   },
   "outputs": [
    {
     "ename": "SyntaxError",
     "evalue": "only named arguments may follow *expression (storm.py, line 43)",
     "output_type": "error",
     "traceback": [
      "\u001b[0;36m  File \u001b[0;32m\"stormstats/storm.py\"\u001b[0;36m, line \u001b[0;32m43\u001b[0m\n\u001b[0;31m    return dt.datetime(*dvals, hh, mm, ss, mss)\u001b[0m\n\u001b[0;31mSyntaxError\u001b[0m\u001b[0;31m:\u001b[0m only named arguments may follow *expression\n"
     ]
    }
   ],
   "source": [
    "# Load required packages\n",
    "import numpy as np\n",
    "import datetime as dt\n",
    "from datetime import timedelta\n",
    "import pandas as pd\n",
    "import os\n",
    "from bokeh.plotting import Figure, show, output_notebook, vplot\n",
    "from bokeh.charts import Bar\n",
    "from bokeh.io import gridplot\n",
    "from bokeh.models import HoverTool, Span, Range1d, LinearAxis\n",
    "from bokeh.models.sources import ColumnDataSource\n",
    "\n",
    "from stormstats.storm import read_WWLN\n",
    "\n",
    "output_notebook()"
   ]
  },
  {
   "cell_type": "markdown",
   "metadata": {},
   "source": [
    "## Various functions"
   ]
  },
  {
   "cell_type": "code",
   "execution_count": null,
   "metadata": {
    "collapsed": false
   },
   "outputs": [],
   "source": [
    "WWLN.Gen_date?"
   ]
  },
  {
   "cell_type": "markdown",
   "metadata": {},
   "source": [
    "## Define parameters"
   ]
  },
  {
   "cell_type": "code",
   "execution_count": null,
   "metadata": {
    "collapsed": false
   },
   "outputs": [],
   "source": [
    "#data_path='../data/WWLN/Jan2016/'\n",
    "data_path = \"WWLN\"\n",
    "\n",
    "#start_time=\n",
    "#end_time=\n",
    "time_step=60   # in minutes\n",
    "west_long_limit=0\n",
    "east_long_limit=30\n",
    "north_lat_limit=60\n",
    "south_lat_limit=30\n",
    "residuals_limit_us=2\n",
    "minimum_no_stations=5"
   ]
  },
  {
   "cell_type": "markdown",
   "metadata": {},
   "source": [
    "# Load data"
   ]
  },
  {
   "cell_type": "code",
   "execution_count": null,
   "metadata": {
    "collapsed": false
   },
   "outputs": [],
   "source": [
    "def read_WWLN(file):\n",
    "    \"\"\"Read WWLN file\"\"\"\n",
    "    # Read the raw data and add headings\n",
    "    tmp = pd.read_csv(file, parse_dates=True, header=None, names=['date','time','lat','lon','err','#sta'])\n",
    "    # Generate a list of datetime objects with time to miliseconds\n",
    "    list_dts = []\n",
    "    for dvals, tvals, in zip(tmp['date'], tmp['time']):\n",
    "        list_dts.append(gen_datetime(dvals, tvals))\n",
    "    dtdf = pd.DataFrame(list_dts, columns=['datetime']) # Make a dt dataframe to join\n",
    "    result = pd.concat([dtdf, tmp], axis=1)\n",
    "    result = result.drop(['date','time'],axis=1)\n",
    "    return result"
   ]
  },
  {
   "cell_type": "code",
   "execution_count": null,
   "metadata": {
    "collapsed": false
   },
   "outputs": [],
   "source": [
    "def gen_datetime(dvals, tvals):\n",
    "    dvals = [int(t) for t in dvals.split('/')]    \n",
    "    hh, mm, sec_micro = tvals.split(':')\n",
    "    hh = int(hh)\n",
    "    mm = int(mm)\n",
    "    ss, mss = sec_micro.split('.')\n",
    "    ss = int(ss)\n",
    "    mss = int(mss)\n",
    "    return dt.datetime(*dvals, hh, mm, ss, mss)"
   ]
  },
  {
   "cell_type": "code",
   "execution_count": null,
   "metadata": {
    "collapsed": false
   },
   "outputs": [],
   "source": [
    "#included_extenstions = ['loc']\n",
    "\n",
    "#listfiles = [fn for fn in os.listdir(data_path) if any(fn.endswith(ext) for ext in included_extenstions)]"
   ]
  },
  {
   "cell_type": "code",
   "execution_count": null,
   "metadata": {
    "collapsed": false
   },
   "outputs": [],
   "source": [
    "#dates_data = []\n",
    "#for file in listfiles:\n",
    "#    dates_data.append(WWLN.Gen_date(file))"
   ]
  },
  {
   "cell_type": "code",
   "execution_count": 3,
   "metadata": {
    "collapsed": false
   },
   "outputs": [
    {
     "data": {
      "text/html": [
       "<div>\n",
       "<table border=\"1\" class=\"dataframe\">\n",
       "  <thead>\n",
       "    <tr style=\"text-align: right;\">\n",
       "      <th></th>\n",
       "      <th>datetime</th>\n",
       "      <th>lat</th>\n",
       "      <th>lon</th>\n",
       "      <th>err</th>\n",
       "      <th>#sta</th>\n",
       "    </tr>\n",
       "  </thead>\n",
       "  <tbody>\n",
       "    <tr>\n",
       "      <th>0</th>\n",
       "      <td>2016-01-01 00:00:00.258574</td>\n",
       "      <td>-7.6253</td>\n",
       "      <td>-64.6813</td>\n",
       "      <td>13.1</td>\n",
       "      <td>6</td>\n",
       "    </tr>\n",
       "    <tr>\n",
       "      <th>1</th>\n",
       "      <td>2016-01-01 00:00:00.205713</td>\n",
       "      <td>-5.1888</td>\n",
       "      <td>23.3846</td>\n",
       "      <td>4.1</td>\n",
       "      <td>5</td>\n",
       "    </tr>\n",
       "    <tr>\n",
       "      <th>2</th>\n",
       "      <td>2016-01-01 00:00:00.297611</td>\n",
       "      <td>-7.4574</td>\n",
       "      <td>-64.7405</td>\n",
       "      <td>16.9</td>\n",
       "      <td>6</td>\n",
       "    </tr>\n",
       "    <tr>\n",
       "      <th>3</th>\n",
       "      <td>2016-01-01 00:00:00.996208</td>\n",
       "      <td>-6.9209</td>\n",
       "      <td>-60.5694</td>\n",
       "      <td>6.2</td>\n",
       "      <td>13</td>\n",
       "    </tr>\n",
       "    <tr>\n",
       "      <th>4</th>\n",
       "      <td>2016-01-01 00:00:00.996221</td>\n",
       "      <td>-6.8842</td>\n",
       "      <td>-60.5744</td>\n",
       "      <td>21.0</td>\n",
       "      <td>6</td>\n",
       "    </tr>\n",
       "  </tbody>\n",
       "</table>\n",
       "</div>"
      ],
      "text/plain": [
       "                    datetime     lat      lon   err  #sta\n",
       "0 2016-01-01 00:00:00.258574 -7.6253 -64.6813  13.1     6\n",
       "1 2016-01-01 00:00:00.205713 -5.1888  23.3846   4.1     5\n",
       "2 2016-01-01 00:00:00.297611 -7.4574 -64.7405  16.9     6\n",
       "3 2016-01-01 00:00:00.996208 -6.9209 -60.5694   6.2    13\n",
       "4 2016-01-01 00:00:00.996221 -6.8842 -60.5744  21.0     6"
      ]
     },
     "execution_count": 3,
     "metadata": {},
     "output_type": "execute_result"
    }
   ],
   "source": [
    "test = read_WWLN(file=\"WWLN/test.loc\")\n",
    "test.head()"
   ]
  },
  {
   "cell_type": "code",
   "execution_count": null,
   "metadata": {
    "collapsed": false
   },
   "outputs": [],
   "source": []
  },
  {
   "cell_type": "code",
   "execution_count": 5,
   "metadata": {
    "collapsed": false
   },
   "outputs": [],
   "source": []
  },
  {
   "cell_type": "code",
   "execution_count": null,
   "metadata": {
    "collapsed": false
   },
   "outputs": [],
   "source": []
  },
  {
   "cell_type": "code",
   "execution_count": null,
   "metadata": {
    "collapsed": false
   },
   "outputs": [],
   "source": []
  },
  {
   "cell_type": "code",
   "execution_count": null,
   "metadata": {
    "collapsed": false
   },
   "outputs": [],
   "source": []
  },
  {
   "cell_type": "code",
   "execution_count": null,
   "metadata": {
    "collapsed": true
   },
   "outputs": [],
   "source": []
  },
  {
   "cell_type": "code",
   "execution_count": null,
   "metadata": {
    "collapsed": true
   },
   "outputs": [],
   "source": []
  }
 ],
 "metadata": {
  "kernelspec": {
   "display_name": "Python 2",
   "language": "python",
   "name": "python2"
  },
  "language_info": {
   "codemirror_mode": {
    "name": "ipython",
    "version": 2
   },
   "file_extension": ".py",
   "mimetype": "text/x-python",
   "name": "python",
   "nbconvert_exporter": "python",
   "pygments_lexer": "ipython2",
   "version": "2.7.11"
  }
 },
 "nbformat": 4,
 "nbformat_minor": 0
}
